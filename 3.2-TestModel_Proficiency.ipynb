{
 "cells": [
  {
   "cell_type": "code",
   "execution_count": 1,
   "metadata": {
    "colab": {
     "base_uri": "https://localhost:8080/"
    },
    "executionInfo": {
     "elapsed": 3763,
     "status": "ok",
     "timestamp": 1620218819020,
     "user": {
      "displayName": "Robin",
      "photoUrl": "https://lh3.googleusercontent.com/a-/AOh14GjtqPWqo9lktC_ndwCmmDQam0Lw7d08Dwh80oXfIg=s64",
      "userId": "06113191287291968679"
     },
     "user_tz": -120
    },
    "id": "hnLxf91hVWfq",
    "outputId": "eae2ab0e-f80b-461f-bd07-5ce1eca2bae3"
   },
   "outputs": [
    {
     "name": "stderr",
     "output_type": "stream",
     "text": [
      "[nltk_data] Downloading package punkt to\n",
      "[nltk_data]     C:\\Users\\robin\\AppData\\Roaming\\nltk_data...\n",
      "[nltk_data]   Package punkt is already up-to-date!\n"
     ]
    },
    {
     "data": {
      "text/plain": [
       "True"
      ]
     },
     "execution_count": 1,
     "metadata": {},
     "output_type": "execute_result"
    }
   ],
   "source": [
    "import nltk\n",
    "nltk.download('punkt')"
   ]
  },
  {
   "cell_type": "code",
   "execution_count": 2,
   "metadata": {
    "executionInfo": {
     "elapsed": 3762,
     "status": "ok",
     "timestamp": 1620218819022,
     "user": {
      "displayName": "Robin",
      "photoUrl": "https://lh3.googleusercontent.com/a-/AOh14GjtqPWqo9lktC_ndwCmmDQam0Lw7d08Dwh80oXfIg=s64",
      "userId": "06113191287291968679"
     },
     "user_tz": -120
    },
    "id": "PXCv9GqgVWfv"
   },
   "outputs": [],
   "source": [
    "#imports\n",
    "import pandas as pd\n",
    "\n",
    "# transformer\n",
    "from sklearn.base import BaseEstimator, TransformerMixin\n",
    "\n",
    "# pipeline\n",
    "from nltk.tokenize import word_tokenize\n",
    "from sklearn.pipeline import Pipeline, FeatureUnion\n",
    "from sklearn.model_selection import train_test_split, cross_val_predict, GridSearchCV\n",
    "from sklearn.feature_extraction.text import TfidfVectorizer, CountVectorizer\n",
    "from sklearn.svm import LinearSVC, SVC\n",
    "from sklearn.metrics import classification_report"
   ]
  },
  {
   "cell_type": "code",
   "execution_count": 3,
   "metadata": {
    "colab": {
     "base_uri": "https://localhost:8080/"
    },
    "collapsed": true,
    "executionInfo": {
     "elapsed": 16642,
     "status": "ok",
     "timestamp": 1620219002068,
     "user": {
      "displayName": "Robin",
      "photoUrl": "https://lh3.googleusercontent.com/a-/AOh14GjtqPWqo9lktC_ndwCmmDQam0Lw7d08Dwh80oXfIg=s64",
      "userId": "06113191287291968679"
     },
     "user_tz": -120
    },
    "id": "q30_4gHKk7IR",
    "jupyter": {
     "outputs_hidden": true
    },
    "outputId": "f71bbda7-40b7-40ef-fd2f-89363f2af607"
   },
   "outputs": [
    {
     "ename": "ModuleNotFoundError",
     "evalue": "No module named 'google.colab'",
     "output_type": "error",
     "traceback": [
      "\u001b[1;31m---------------------------------------------------------------------------\u001b[0m",
      "\u001b[1;31mModuleNotFoundError\u001b[0m                       Traceback (most recent call last)",
      "\u001b[1;32m<ipython-input-3-7b751c7ac97f>\u001b[0m in \u001b[0;36m<module>\u001b[1;34m\u001b[0m\n\u001b[0;32m      1\u001b[0m \u001b[1;31m# Mount Google drive\u001b[0m\u001b[1;33m\u001b[0m\u001b[1;33m\u001b[0m\u001b[1;33m\u001b[0m\u001b[0m\n\u001b[1;32m----> 2\u001b[1;33m \u001b[1;32mfrom\u001b[0m \u001b[0mgoogle\u001b[0m\u001b[1;33m.\u001b[0m\u001b[0mcolab\u001b[0m \u001b[1;32mimport\u001b[0m \u001b[0mdrive\u001b[0m\u001b[1;33m\u001b[0m\u001b[1;33m\u001b[0m\u001b[0m\n\u001b[0m\u001b[0;32m      3\u001b[0m \u001b[0mdrive\u001b[0m\u001b[1;33m.\u001b[0m\u001b[0mmount\u001b[0m\u001b[1;33m(\u001b[0m\u001b[1;34m'/content/drive'\u001b[0m\u001b[1;33m)\u001b[0m\u001b[1;33m\u001b[0m\u001b[1;33m\u001b[0m\u001b[0m\n",
      "\u001b[1;31mModuleNotFoundError\u001b[0m: No module named 'google.colab'"
     ]
    }
   ],
   "source": [
    "# Mount Google drive\n",
    "#from google.colab import drive\n",
    "#drive.mount('/content/drive')"
   ]
  },
  {
   "cell_type": "code",
   "execution_count": 9,
   "metadata": {
    "executionInfo": {
     "elapsed": 1228,
     "status": "ok",
     "timestamp": 1620219072817,
     "user": {
      "displayName": "Robin",
      "photoUrl": "https://lh3.googleusercontent.com/a-/AOh14GjtqPWqo9lktC_ndwCmmDQam0Lw7d08Dwh80oXfIg=s64",
      "userId": "06113191287291968679"
     },
     "user_tz": -120
    },
    "id": "9BwLfBVdlGoX"
   },
   "outputs": [],
   "source": [
    "toefl = pd.read_csv('toefl11_trainingdata_features')\n",
    "toefl = toefl.drop(['Unnamed: 0','Unnamed: 0.1'], axis= 1)"
   ]
  },
  {
   "cell_type": "code",
   "execution_count": null,
   "metadata": {
    "id": "_fkHwSY9VWfw"
   },
   "outputs": [],
   "source": [
    "#load the data\n",
    "toefl = pd.read_csv('Google Drive/NLP Shared task/toefl11_trainingdata_features')"
   ]
  },
  {
   "cell_type": "code",
   "execution_count": null,
   "metadata": {
    "id": "N88uVFXNVWfw"
   },
   "outputs": [],
   "source": [
    "toefl = pd.read_csv('toefl11_trainingdata_features')\n",
    "toefl = toefl.drop(['Unnamed: 0','Unnamed: 0.1'], axis= 1)"
   ]
  },
  {
   "cell_type": "code",
   "execution_count": 10,
   "metadata": {
    "executionInfo": {
     "elapsed": 410,
     "status": "ok",
     "timestamp": 1620219077284,
     "user": {
      "displayName": "Robin",
      "photoUrl": "https://lh3.googleusercontent.com/a-/AOh14GjtqPWqo9lktC_ndwCmmDQam0Lw7d08Dwh80oXfIg=s64",
      "userId": "06113191287291968679"
     },
     "user_tz": -120
    },
    "id": "McvnDwyOVWfw"
   },
   "outputs": [],
   "source": [
    "#Pipeline\n",
    "#define features and y \n",
    "x = toefl.drop(['Filename', 'Language', 'Proficiency'], axis= 1)\n",
    "y = toefl.drop(['Filename','text','POS','DEP', 'NER', 'prop_punct', 'prop_capwords', 'prop_capI','avg_sentlength'], axis = 1)\n"
   ]
  },
  {
   "cell_type": "code",
   "execution_count": 11,
   "metadata": {
    "executionInfo": {
     "elapsed": 394,
     "status": "ok",
     "timestamp": 1620219079777,
     "user": {
      "displayName": "Robin",
      "photoUrl": "https://lh3.googleusercontent.com/a-/AOh14GjtqPWqo9lktC_ndwCmmDQam0Lw7d08Dwh80oXfIg=s64",
      "userId": "06113191287291968679"
     },
     "user_tz": -120
    },
    "id": "Ws1f6MFbVWfx"
   },
   "outputs": [],
   "source": [
    "#define custom tranformer\n",
    "class ItemSelector(BaseEstimator, TransformerMixin):\n",
    "    def __init__(self, key):\n",
    "        self.key = key\n",
    "        \n",
    "    def fit(self, x, y=None):\n",
    "        return self\n",
    "    \n",
    "    def transform(self, data_dict):\n",
    "        return data_dict[self.key]"
   ]
  },
  {
   "cell_type": "code",
   "execution_count": 12,
   "metadata": {
    "id": "62eRdUdtVWfx"
   },
   "outputs": [],
   "source": [
    "numeric_features = ['prop_punct', 'avg_sentlength', 'prop_capwords', 'prop_capI']\n",
    "tfvect = CountVectorizer()\n",
    "tfidfvect = TfidfVectorizer()\n",
    "svm = SVC()\n",
    "linsvm = LinearSVC()\n",
    "#make the individual pipelines\n",
    "\n",
    "# pipe numeric features\n",
    "numfeat_pipe = Pipeline([\n",
    "    ('selector', ItemSelector(key=numeric_features))\n",
    "])\n",
    "\n",
    "# pipe word n-grams\n",
    "text_pipe = Pipeline([\n",
    "    ('selector', ItemSelector(key='text')),\n",
    "    ('vect', TfidfVectorizer(\n",
    "        tokenizer=word_tokenize,\n",
    "        analyzer='word',\n",
    "        lowercase=True,\n",
    "        ngram_range=(1,2)))\n",
    "])\n",
    "\n",
    "# pipe char n-grams\n",
    "char_pipe = Pipeline([\n",
    "    ('selector', ItemSelector(key=\"text\")),\n",
    "    ('vect', TfidfVectorizer(\n",
    "        analyzer='char',\n",
    "        lowercase=True,\n",
    "        ngram_range=(2,3)))\n",
    "])\n",
    "\n",
    "# pipe POS n-grams\n",
    "pos_pipe = Pipeline([\n",
    "    ('selector', ItemSelector(key=\"POS\")),\n",
    "    ('vect', TfidfVectorizer(\n",
    "        analyzer='word',\n",
    "        lowercase=True,\n",
    "        ngram_range=(1,3)))\n",
    "])\n",
    "\n",
    "# pipe dependencies\n",
    "dep_pipe = Pipeline([\n",
    "    ('selector', ItemSelector(key=\"DEP\")),\n",
    "    ('vect', TfidfVectorizer(\n",
    "        analyzer='word',\n",
    "        lowercase=True,\n",
    "        ngram_range=(1,2)))\n",
    "])"
   ]
  },
  {
   "cell_type": "code",
   "execution_count": 13,
   "metadata": {
    "id": "2DOputP3VWfx"
   },
   "outputs": [],
   "source": [
    "# pipe complete\n",
    "pipe = Pipeline([\n",
    "    ('feats', FeatureUnion([\n",
    "        ('numfeat_pipe', numfeat_pipe),\n",
    "        ('text_pipe', text_pipe),\n",
    "        ('char_pipe', char_pipe),\n",
    "        ('pos_pipe', pos_pipe)\n",
    "    ])),\n",
    "    ('cls', linsvm)\n",
    "])"
   ]
  },
  {
   "cell_type": "code",
   "execution_count": 16,
   "metadata": {
    "id": "STV8lStQVWfy"
   },
   "outputs": [],
   "source": [
    "X_train, X_test, y_train, y_test = train_test_split(x, y['Proficiency'], test_size= 0.10)"
   ]
  },
  {
   "cell_type": "code",
   "execution_count": 17,
   "metadata": {
    "id": "hiR13vy-VWfy",
    "outputId": "52595bf7-606a-4244-cdf2-5104b5068a5e"
   },
   "outputs": [
    {
     "name": "stderr",
     "output_type": "stream",
     "text": [
      "C:\\Users\\robin\\anaconda3\\lib\\site-packages\\sklearn\\svm\\_base.py:976: ConvergenceWarning: Liblinear failed to converge, increase the number of iterations.\n",
      "  warnings.warn(\"Liblinear failed to converge, increase \"\n"
     ]
    },
    {
     "data": {
      "text/plain": [
       "Pipeline(steps=[('feats',\n",
       "                 FeatureUnion(transformer_list=[('numfeat_pipe',\n",
       "                                                 Pipeline(steps=[('selector',\n",
       "                                                                  ItemSelector(key=['prop_punct',\n",
       "                                                                                    'avg_sentlength',\n",
       "                                                                                    'prop_capwords',\n",
       "                                                                                    'prop_capI']))])),\n",
       "                                                ('text_pipe',\n",
       "                                                 Pipeline(steps=[('selector',\n",
       "                                                                  ItemSelector(key='text')),\n",
       "                                                                 ('vect',\n",
       "                                                                  TfidfVectorizer(ngram_range=(1,\n",
       "                                                                                               2),\n",
       "                                                                                  tokenizer=<function word_tokenize at 0x000001FF9E4AC1F0>))])),\n",
       "                                                ('char_pipe',\n",
       "                                                 Pipeline(steps=[('selector',\n",
       "                                                                  ItemSelector(key='text')),\n",
       "                                                                 ('vect',\n",
       "                                                                  TfidfVectorizer(analyzer='char',\n",
       "                                                                                  ngram_range=(2,\n",
       "                                                                                               3)))])),\n",
       "                                                ('pos_pipe',\n",
       "                                                 Pipeline(steps=[('selector',\n",
       "                                                                  ItemSelector(key='POS')),\n",
       "                                                                 ('vect',\n",
       "                                                                  TfidfVectorizer(ngram_range=(1,\n",
       "                                                                                               3)))]))])),\n",
       "                ('cls', LinearSVC())])"
      ]
     },
     "execution_count": 17,
     "metadata": {},
     "output_type": "execute_result"
    }
   ],
   "source": [
    "pipe.fit(X_train, y_train)"
   ]
  },
  {
   "cell_type": "code",
   "execution_count": null,
   "metadata": {
    "id": "r0ekPyX9VWfy",
    "outputId": "4a703e65-c4cb-460e-ab9f-5b69586d15fe"
   },
   "outputs": [
    {
     "name": "stdout",
     "output_type": "stream",
     "text": [
      "              precision    recall  f1-score   support\n",
      "\n",
      "        high       0.63      0.85      0.72       747\n",
      "         low       0.81      0.25      0.38       270\n",
      "      medium       0.72      0.68      0.70      1183\n",
      "\n",
      "    accuracy                           0.68      2200\n",
      "   macro avg       0.72      0.59      0.60      2200\n",
      "weighted avg       0.70      0.68      0.67      2200\n",
      "\n"
     ]
    }
   ],
   "source": [
    "# prediction\n",
    "y_test_pred = pipe.predict(X_test)\n",
    "\n",
    "# accuracy\n",
    "print(classification_report(y_test, y_test_pred))"
   ]
  },
  {
   "cell_type": "code",
   "execution_count": 18,
   "metadata": {
    "id": "r23ZP4PUVWfy",
    "outputId": "647f5ff0-8bb2-407b-912b-952ce68be389"
   },
   "outputs": [
    {
     "name": "stderr",
     "output_type": "stream",
     "text": [
      "[Parallel(n_jobs=-1)]: Using backend LokyBackend with 12 concurrent workers.\n",
      "[Parallel(n_jobs=-1)]: Done  10 out of  10 | elapsed: 13.6min finished\n"
     ]
    },
    {
     "name": "stdout",
     "output_type": "stream",
     "text": [
      "              precision    recall  f1-score   support\n",
      "\n",
      "        high       0.65      0.80      0.72      3835\n",
      "         low       0.78      0.30      0.43      1201\n",
      "      medium       0.73      0.71      0.72      5964\n",
      "\n",
      "    accuracy                           0.70     11000\n",
      "   macro avg       0.72      0.61      0.62     11000\n",
      "weighted avg       0.71      0.70      0.69     11000\n",
      "\n"
     ]
    }
   ],
   "source": [
    "# cross-validation\n",
    "cv_results = cross_val_predict(pipe, x, y['Proficiency'], cv=10, verbose=True, n_jobs=-1)\n",
    "print(classification_report(y['Proficiency'], cv_results))"
   ]
  },
  {
   "cell_type": "code",
   "execution_count": null,
   "metadata": {
    "id": "o9gVz1f1VWfz",
    "outputId": "6121fa23-ad0a-4b4a-9bcd-6636e2ba7a75"
   },
   "outputs": [
    {
     "name": "stdout",
     "output_type": "stream",
     "text": [
      "Fitting 5 folds for each of 18 candidates, totalling 90 fits\n"
     ]
    },
    {
     "name": "stderr",
     "output_type": "stream",
     "text": [
      "[Parallel(n_jobs=-1)]: Using backend LokyBackend with 12 concurrent workers.\n",
      "[Parallel(n_jobs=-1)]: Done   1 tasks      | elapsed:  5.4min\n",
      "[Parallel(n_jobs=-1)]: Done   8 tasks      | elapsed:  9.7min\n",
      "[Parallel(n_jobs=-1)]: Done  17 tasks      | elapsed: 17.3min\n",
      "[Parallel(n_jobs=-1)]: Done  26 tasks      | elapsed: 22.7min\n",
      "[Parallel(n_jobs=-1)]: Done  37 tasks      | elapsed: 31.2min\n",
      "[Parallel(n_jobs=-1)]: Done  48 tasks      | elapsed: 42.6min\n",
      "[Parallel(n_jobs=-1)]: Done  61 tasks      | elapsed: 55.3min\n",
      "[Parallel(n_jobs=-1)]: Done  77 out of  90 | elapsed: 73.0min remaining: 12.3min\n",
      "[Parallel(n_jobs=-1)]: Done  87 out of  90 | elapsed: 85.9min remaining:  3.0min\n",
      "[Parallel(n_jobs=-1)]: Done  90 out of  90 | elapsed: 88.6min finished\n",
      "C:\\Users\\robin\\anaconda3\\lib\\site-packages\\sklearn\\svm\\_base.py:976: ConvergenceWarning: Liblinear failed to converge, increase the number of iterations.\n",
      "  warnings.warn(\"Liblinear failed to converge, increase \"\n"
     ]
    },
    {
     "data": {
      "text/plain": [
       "GridSearchCV(cv=5,\n",
       "             estimator=Pipeline(steps=[('feats',\n",
       "                                        FeatureUnion(transformer_list=[('numfeat_pipe',\n",
       "                                                                        Pipeline(steps=[('selector',\n",
       "                                                                                         ItemSelector(key=['prop_punct',\n",
       "                                                                                                           'avg_sentlength',\n",
       "                                                                                                           'prop_capwords',\n",
       "                                                                                                           'prop_capI']))])),\n",
       "                                                                       ('text_pipe',\n",
       "                                                                        Pipeline(steps=[('selector',\n",
       "                                                                                         ItemSelector(key='text')),\n",
       "                                                                                        ('vect',\n",
       "                                                                                         TfidfVectorizer(ngram_range=(1,\n",
       "                                                                                                                      2),\n",
       "                                                                                                         tokenizer=<function word_tokeniz...\n",
       "                                                                                                         ngram_range=(2,\n",
       "                                                                                                                      3)))])),\n",
       "                                                                       ('pos_pipe',\n",
       "                                                                        Pipeline(steps=[('selector',\n",
       "                                                                                         ItemSelector(key='POS')),\n",
       "                                                                                        ('vect',\n",
       "                                                                                         TfidfVectorizer(ngram_range=(1,\n",
       "                                                                                                                      3)))]))])),\n",
       "                                       ('cls', LinearSVC())]),\n",
       "             n_jobs=-1,\n",
       "             param_grid={'feats__char_pipe__vect__ngram_range': [(2, 2), (2, 3),\n",
       "                                                                 (2, 4)],\n",
       "                         'feats__pos_pipe__vect__ngram_range': [(1, 2), (1, 3),\n",
       "                                                                (1, 4)],\n",
       "                         'feats__text_pipe__vect__ngram_range': [(1, 2),\n",
       "                                                                 (1, 3)]},\n",
       "             verbose=10)"
      ]
     },
     "execution_count": 13,
     "metadata": {
      "tags": []
     },
     "output_type": "execute_result"
    }
   ],
   "source": [
    "params = {\"feats__text_pipe__vect__ngram_range\": [(1,2), (1,3)], \n",
    "          \"feats__char_pipe__vect__ngram_range\": [(2,2), (2,3), (2,4)],\n",
    "          \"feats__pos_pipe__vect__ngram_range\": [(1,2),(1,3),(1,4)]\n",
    "         }\n",
    "\n",
    "ngram_search = GridSearchCV(pipe, params, cv=5, n_jobs=-1, verbose=10)\n",
    "ngram_search.fit(X_train, y_train)"
   ]
  },
  {
   "cell_type": "code",
   "execution_count": null,
   "metadata": {
    "id": "t_PIe-roVWfz",
    "outputId": "99c95dfa-b4a1-4724-b69d-d7261ed5c97b"
   },
   "outputs": [
    {
     "name": "stdout",
     "output_type": "stream",
     "text": [
      "0.7055681818181819\n",
      "{'feats__char_pipe__vect__ngram_range': (2, 3), 'feats__pos_pipe__vect__ngram_range': (1, 4), 'feats__text_pipe__vect__ngram_range': (1, 2)}\n"
     ]
    }
   ],
   "source": [
    "print(ngram_search.best_score_)\n",
    "print(ngram_search.best_params_)"
   ]
  },
  {
   "cell_type": "code",
   "execution_count": 19,
   "metadata": {
    "id": "-HQqsuEUVWfz"
   },
   "outputs": [],
   "source": [
    "#refit with best ranges\n",
    "numfeat_pipe = Pipeline([\n",
    "    ('selector', ItemSelector(key=numeric_features))\n",
    "])\n",
    "\n",
    "# pipe word n-grams\n",
    "text_pipe = Pipeline([\n",
    "    ('selector', ItemSelector(key='text')),\n",
    "    ('vect', TfidfVectorizer(\n",
    "        tokenizer=word_tokenize,\n",
    "        analyzer='word',\n",
    "        lowercase=True,\n",
    "        ngram_range=(1,2)))\n",
    "])\n",
    "\n",
    "# pipe char n-grams\n",
    "char_pipe = Pipeline([\n",
    "    ('selector', ItemSelector(key=\"text\")),\n",
    "    ('vect', TfidfVectorizer(\n",
    "        analyzer='char',\n",
    "        lowercase=True,\n",
    "        ngram_range=(2,3)))\n",
    "])\n",
    "\n",
    "# pipe POS n-grams\n",
    "pos_pipe = Pipeline([\n",
    "    ('selector', ItemSelector(key=\"POS\")),\n",
    "    ('vect', TfidfVectorizer(\n",
    "        analyzer='word',\n",
    "        lowercase=True,\n",
    "        ngram_range=(1,4)))\n",
    "])\n",
    "\n",
    "# pipe complete\n",
    "pipe = Pipeline([\n",
    "    ('feats', FeatureUnion([\n",
    "        ('numfeat_pipe', numfeat_pipe),\n",
    "        ('text_pipe', text_pipe),\n",
    "        ('char_pipe', char_pipe),\n",
    "        ('pos_pipe', pos_pipe)\n",
    "    ])),\n",
    "    ('cls', linsvm)\n",
    "])"
   ]
  },
  {
   "cell_type": "code",
   "execution_count": 20,
   "metadata": {
    "id": "i4F0FjJtVWf0",
    "outputId": "e5e71d92-b8c5-4537-b7b6-10f30aac2ecc"
   },
   "outputs": [
    {
     "name": "stderr",
     "output_type": "stream",
     "text": [
      "C:\\Users\\robin\\anaconda3\\lib\\site-packages\\sklearn\\svm\\_base.py:976: ConvergenceWarning: Liblinear failed to converge, increase the number of iterations.\n",
      "  warnings.warn(\"Liblinear failed to converge, increase \"\n"
     ]
    },
    {
     "data": {
      "text/plain": [
       "Pipeline(steps=[('feats',\n",
       "                 FeatureUnion(transformer_list=[('numfeat_pipe',\n",
       "                                                 Pipeline(steps=[('selector',\n",
       "                                                                  ItemSelector(key=['prop_punct',\n",
       "                                                                                    'avg_sentlength',\n",
       "                                                                                    'prop_capwords',\n",
       "                                                                                    'prop_capI']))])),\n",
       "                                                ('text_pipe',\n",
       "                                                 Pipeline(steps=[('selector',\n",
       "                                                                  ItemSelector(key='text')),\n",
       "                                                                 ('vect',\n",
       "                                                                  TfidfVectorizer(ngram_range=(1,\n",
       "                                                                                               2),\n",
       "                                                                                  tokenizer=<function word_tokenize at 0x000001FF9E4AC1F0>))])),\n",
       "                                                ('char_pipe',\n",
       "                                                 Pipeline(steps=[('selector',\n",
       "                                                                  ItemSelector(key='text')),\n",
       "                                                                 ('vect',\n",
       "                                                                  TfidfVectorizer(analyzer='char',\n",
       "                                                                                  ngram_range=(2,\n",
       "                                                                                               3)))])),\n",
       "                                                ('pos_pipe',\n",
       "                                                 Pipeline(steps=[('selector',\n",
       "                                                                  ItemSelector(key='POS')),\n",
       "                                                                 ('vect',\n",
       "                                                                  TfidfVectorizer(ngram_range=(1,\n",
       "                                                                                               4)))]))])),\n",
       "                ('cls', LinearSVC())])"
      ]
     },
     "execution_count": 20,
     "metadata": {},
     "output_type": "execute_result"
    }
   ],
   "source": [
    "# fit model\n",
    "pipe.fit(X_train, y_train)"
   ]
  },
  {
   "cell_type": "code",
   "execution_count": null,
   "metadata": {
    "id": "SOJPUFopVWf0",
    "outputId": "ada83b0b-18fb-4964-d50f-892b9744b270"
   },
   "outputs": [
    {
     "name": "stdout",
     "output_type": "stream",
     "text": [
      "              precision    recall  f1-score   support\n",
      "\n",
      "        high       0.65      0.83      0.73       747\n",
      "         low       0.83      0.27      0.41       270\n",
      "      medium       0.73      0.71      0.72      1183\n",
      "\n",
      "    accuracy                           0.70      2200\n",
      "   macro avg       0.74      0.60      0.62      2200\n",
      "weighted avg       0.71      0.70      0.68      2200\n",
      "\n"
     ]
    }
   ],
   "source": [
    "# prediction\n",
    "y_test_pred = pipe.predict(X_test)\n",
    "\n",
    "# accuracy\n",
    "print(classification_report(y_test, y_test_pred))"
   ]
  },
  {
   "cell_type": "code",
   "execution_count": 21,
   "metadata": {
    "id": "yDJiu0oRVWf0",
    "outputId": "b3d39e0a-b07e-44af-ad91-d48d8d27e45f"
   },
   "outputs": [
    {
     "name": "stderr",
     "output_type": "stream",
     "text": [
      "[Parallel(n_jobs=-1)]: Using backend LokyBackend with 12 concurrent workers.\n",
      "[Parallel(n_jobs=-1)]: Done  10 out of  10 | elapsed: 13.3min finished\n"
     ]
    },
    {
     "name": "stdout",
     "output_type": "stream",
     "text": [
      "              precision    recall  f1-score   support\n",
      "\n",
      "        high       0.66      0.79      0.72      3835\n",
      "         low       0.82      0.34      0.48      1201\n",
      "      medium       0.73      0.72      0.73      5964\n",
      "\n",
      "    accuracy                           0.71     11000\n",
      "   macro avg       0.74      0.62      0.64     11000\n",
      "weighted avg       0.72      0.71      0.70     11000\n",
      "\n"
     ]
    }
   ],
   "source": [
    "# cross-validation\n",
    "# cross-validation\n",
    "cv_results = cross_val_predict(pipe, x, y['Proficiency'], cv=10, verbose=True, n_jobs=-1)\n",
    "print(classification_report(y['Proficiency'], cv_results))"
   ]
  },
  {
   "cell_type": "code",
   "execution_count": null,
   "metadata": {
    "id": "EodH2dHBVWf0"
   },
   "outputs": [],
   "source": [
    "test = pd.read_csv('test_features.csv')\n",
    "test_predict = pipe.predict(test)"
   ]
  },
  {
   "cell_type": "code",
   "execution_count": null,
   "metadata": {
    "id": "iX-suBqqVWf1",
    "outputId": "8178feb1-f17f-4076-c176-89874bce7c8b"
   },
   "outputs": [
    {
     "data": {
      "text/plain": [
       "(1100,)"
      ]
     },
     "execution_count": 25,
     "metadata": {
      "tags": []
     },
     "output_type": "execute_result"
    }
   ],
   "source": [
    "test_predict"
   ]
  },
  {
   "cell_type": "code",
   "execution_count": null,
   "metadata": {
    "id": "zz77YOWkVWf1"
   },
   "outputs": [],
   "source": [
    "test_predict = pd.Series(test_predict)\n",
    "test_predict.to_csv('test_proficiency_predictions.csv')"
   ]
  }
 ],
 "metadata": {
  "colab": {
   "name": "3.2-TestModel_Proficiency.ipynb",
   "provenance": []
  },
  "kernelspec": {
   "display_name": "Python 3",
   "language": "python",
   "name": "python3"
  },
  "language_info": {
   "codemirror_mode": {
    "name": "ipython",
    "version": 3
   },
   "file_extension": ".py",
   "mimetype": "text/x-python",
   "name": "python",
   "nbconvert_exporter": "python",
   "pygments_lexer": "ipython3",
   "version": "3.8.5"
  }
 },
 "nbformat": 4,
 "nbformat_minor": 4
}
