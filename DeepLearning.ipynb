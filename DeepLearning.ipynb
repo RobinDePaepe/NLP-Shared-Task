{
 "cells": [
  {
   "cell_type": "markdown",
   "metadata": {},
   "source": [
    "# Attempt at deep learning\n",
    "\n",
    "the following code was an attempt at implementing the deep learning model BERT to the dataset. However due to memory restrictions on Colab, no valid results were attainned and where thus not further explored"
   ]
  },
  {
   "cell_type": "code",
   "execution_count": null,
   "metadata": {
    "id": "9104AyX44tEQ"
   },
   "outputs": [],
   "source": [
    "# Install the simpletransformers library (restart your runtime after the installation, make sure that GPU is activated in 'Change runtime time')\n",
    "!pip install simpletransformers==0.60.9 \n",
    "# documentation: simpletransformers.ai (wrapper for the huggingface transformers library (huggingface.co) on PyTorch)"
   ]
  },
  {
   "cell_type": "code",
   "execution_count": 1,
   "metadata": {
    "colab": {
     "base_uri": "https://localhost:8080/"
    },
    "executionInfo": {
     "elapsed": 3334,
     "status": "ok",
     "timestamp": 1619985587058,
     "user": {
      "displayName": "Robin",
      "photoUrl": "https://lh3.googleusercontent.com/a-/AOh14GjtqPWqo9lktC_ndwCmmDQam0Lw7d08Dwh80oXfIg=s64",
      "userId": "06113191287291968679"
     },
     "user_tz": -120
    },
    "id": "EQDqb9b2_Z2_",
    "outputId": "6768e25b-0699-4ef9-a527-a5e0287283e8"
   },
   "outputs": [
    {
     "name": "stdout",
     "output_type": "stream",
     "text": [
      "Requirement already satisfied: torch in /usr/local/lib/python3.7/dist-packages (1.8.1+cu101)\n",
      "Requirement already satisfied: torchvision in /usr/local/lib/python3.7/dist-packages (0.9.1+cu101)\n",
      "Collecting torchaudio\n",
      "\u001b[?25l  Downloading https://files.pythonhosted.org/packages/aa/55/01ad9244bcd595e39cea5ce30726a7fe02fd963d07daeb136bfe7e23f0a5/torchaudio-0.8.1-cp37-cp37m-manylinux1_x86_64.whl (1.9MB)\n",
      "\u001b[K     |████████████████████████████████| 1.9MB 18.7MB/s \n",
      "\u001b[?25hRequirement already satisfied: typing-extensions in /usr/local/lib/python3.7/dist-packages (from torch) (3.7.4.3)\n",
      "Requirement already satisfied: numpy in /usr/local/lib/python3.7/dist-packages (from torch) (1.19.5)\n",
      "Requirement already satisfied: pillow>=4.1.1 in /usr/local/lib/python3.7/dist-packages (from torchvision) (7.1.2)\n",
      "Installing collected packages: torchaudio\n",
      "Successfully installed torchaudio-0.8.1\n"
     ]
    }
   ],
   "source": [
    "pip install torch torchvision torchaudio"
   ]
  },
  {
   "cell_type": "code",
   "execution_count": 8,
   "metadata": {
    "executionInfo": {
     "elapsed": 639,
     "status": "ok",
     "timestamp": 1619985929725,
     "user": {
      "displayName": "Robin",
      "photoUrl": "https://lh3.googleusercontent.com/a-/AOh14GjtqPWqo9lktC_ndwCmmDQam0Lw7d08Dwh80oXfIg=s64",
      "userId": "06113191287291968679"
     },
     "user_tz": -120
    },
    "id": "12UBrmtV5T9y"
   },
   "outputs": [],
   "source": [
    "# Import libraries\n",
    "import pandas as pd\n",
    "import numpy as np\n",
    "import sklearn\n",
    "from sklearn.metrics import classification_report\n",
    "from simpletransformers.classification import ClassificationModel, ClassificationArgs\n",
    "import matplotlib.pyplot as plt \n",
    "import seaborn as sn \n",
    "import transformers as ppb # pytorch transformers"
   ]
  },
  {
   "cell_type": "code",
   "execution_count": 3,
   "metadata": {
    "colab": {
     "base_uri": "https://localhost:8080/"
    },
    "executionInfo": {
     "elapsed": 20239,
     "status": "ok",
     "timestamp": 1619985670778,
     "user": {
      "displayName": "Robin",
      "photoUrl": "https://lh3.googleusercontent.com/a-/AOh14GjtqPWqo9lktC_ndwCmmDQam0Lw7d08Dwh80oXfIg=s64",
      "userId": "06113191287291968679"
     },
     "user_tz": -120
    },
    "id": "ppvmQo9F5YPp",
    "outputId": "fcb14a01-e41d-4573-9898-95f61e90925a"
   },
   "outputs": [
    {
     "name": "stdout",
     "output_type": "stream",
     "text": [
      "Mounted at /content/drive\n"
     ]
    }
   ],
   "source": [
    "# Mount Google drive\n",
    "from google.colab import drive\n",
    "drive.mount('/content/drive')"
   ]
  },
  {
   "cell_type": "code",
   "execution_count": 26,
   "metadata": {
    "executionInfo": {
     "elapsed": 2241,
     "status": "ok",
     "timestamp": 1619987458440,
     "user": {
      "displayName": "Robin",
      "photoUrl": "https://lh3.googleusercontent.com/a-/AOh14GjtqPWqo9lktC_ndwCmmDQam0Lw7d08Dwh80oXfIg=s64",
      "userId": "06113191287291968679"
     },
     "user_tz": -120
    },
    "id": "6NCzOwf05jn6"
   },
   "outputs": [],
   "source": [
    "train_path = '/content/drive/MyDrive/NLP Shared task/toefl11_trainingdata_features'\n",
    "test_path = '/content/drive/MyDrive/NLP Shared task/Featured_Data/test_features.csv'\n",
    "\n",
    "train = pd.read_csv(train_path, sep=',')\n",
    "test = pd.read_csv(test_path, sep=',')"
   ]
  },
  {
   "cell_type": "code",
   "execution_count": 27,
   "metadata": {
    "executionInfo": {
     "elapsed": 573,
     "status": "ok",
     "timestamp": 1619987525131,
     "user": {
      "displayName": "Robin",
      "photoUrl": "https://lh3.googleusercontent.com/a-/AOh14GjtqPWqo9lktC_ndwCmmDQam0Lw7d08Dwh80oXfIg=s64",
      "userId": "06113191287291968679"
     },
     "user_tz": -120
    },
    "id": "eUyE8FN15nL4"
   },
   "outputs": [],
   "source": [
    "from sklearn.model_selection import train_test_split\n",
    "x_train, x_dev, y_train, y_dev = train_test_split(train['text'], train['Language'], test_size = 0.1, random_state = 11)"
   ]
  },
  {
   "cell_type": "code",
   "execution_count": 28,
   "metadata": {
    "colab": {
     "base_uri": "https://localhost:8080/",
     "height": 406
    },
    "executionInfo": {
     "elapsed": 464,
     "status": "ok",
     "timestamp": 1619987526622,
     "user": {
      "displayName": "Robin",
      "photoUrl": "https://lh3.googleusercontent.com/a-/AOh14GjtqPWqo9lktC_ndwCmmDQam0Lw7d08Dwh80oXfIg=s64",
      "userId": "06113191287291968679"
     },
     "user_tz": -120
    },
    "id": "OZnXQDntx7Kd",
    "outputId": "8935e84e-2c75-482a-b513-1adabc29be32"
   },
   "outputs": [
    {
     "data": {
      "text/html": [
       "<div>\n",
       "<style scoped>\n",
       "    .dataframe tbody tr th:only-of-type {\n",
       "        vertical-align: middle;\n",
       "    }\n",
       "\n",
       "    .dataframe tbody tr th {\n",
       "        vertical-align: top;\n",
       "    }\n",
       "\n",
       "    .dataframe thead th {\n",
       "        text-align: right;\n",
       "    }\n",
       "</style>\n",
       "<table border=\"1\" class=\"dataframe\">\n",
       "  <thead>\n",
       "    <tr style=\"text-align: right;\">\n",
       "      <th></th>\n",
       "      <th>Text</th>\n",
       "      <th>Language</th>\n",
       "    </tr>\n",
       "  </thead>\n",
       "  <tbody>\n",
       "    <tr>\n",
       "      <th>2801</th>\n",
       "      <td>I agree with the following statement that the ...</td>\n",
       "      <td>ZHO</td>\n",
       "    </tr>\n",
       "    <tr>\n",
       "      <th>9674</th>\n",
       "      <td>Life has  various stages, each stage has there...</td>\n",
       "      <td>HIN</td>\n",
       "    </tr>\n",
       "    <tr>\n",
       "      <th>10836</th>\n",
       "      <td>Nowadays life is tough and expensive and young...</td>\n",
       "      <td>ARA</td>\n",
       "    </tr>\n",
       "    <tr>\n",
       "      <th>7349</th>\n",
       "      <td>Well,  I have several reasons to believe that ...</td>\n",
       "      <td>SPA</td>\n",
       "    </tr>\n",
       "    <tr>\n",
       "      <th>7581</th>\n",
       "      <td>It is natural that a student studying harder c...</td>\n",
       "      <td>KOR</td>\n",
       "    </tr>\n",
       "    <tr>\n",
       "      <th>...</th>\n",
       "      <td>...</td>\n",
       "      <td>...</td>\n",
       "    </tr>\n",
       "    <tr>\n",
       "      <th>4023</th>\n",
       "      <td>If we happen to consider this issue from an ac...</td>\n",
       "      <td>TUR</td>\n",
       "    </tr>\n",
       "    <tr>\n",
       "      <th>7259</th>\n",
       "      <td>\\tI certainly thinks that having a broad range...</td>\n",
       "      <td>KOR</td>\n",
       "    </tr>\n",
       "    <tr>\n",
       "      <th>5200</th>\n",
       "      <td>I disagree that the many academic subjects to ...</td>\n",
       "      <td>SPA</td>\n",
       "    </tr>\n",
       "    <tr>\n",
       "      <th>3775</th>\n",
       "      <td>I think that understanding a concept about a s...</td>\n",
       "      <td>ITA</td>\n",
       "    </tr>\n",
       "    <tr>\n",
       "      <th>10137</th>\n",
       "      <td>Yes, this right. Most advertisements make prod...</td>\n",
       "      <td>ZHO</td>\n",
       "    </tr>\n",
       "  </tbody>\n",
       "</table>\n",
       "<p>9900 rows × 2 columns</p>\n",
       "</div>"
      ],
      "text/plain": [
       "                                                    Text Language\n",
       "2801   I agree with the following statement that the ...      ZHO\n",
       "9674   Life has  various stages, each stage has there...      HIN\n",
       "10836  Nowadays life is tough and expensive and young...      ARA\n",
       "7349   Well,  I have several reasons to believe that ...      SPA\n",
       "7581   It is natural that a student studying harder c...      KOR\n",
       "...                                                  ...      ...\n",
       "4023   If we happen to consider this issue from an ac...      TUR\n",
       "7259   \\tI certainly thinks that having a broad range...      KOR\n",
       "5200   I disagree that the many academic subjects to ...      SPA\n",
       "3775   I think that understanding a concept about a s...      ITA\n",
       "10137  Yes, this right. Most advertisements make prod...      ZHO\n",
       "\n",
       "[9900 rows x 2 columns]"
      ]
     },
     "execution_count": 28,
     "metadata": {
      "tags": []
     },
     "output_type": "execute_result"
    }
   ],
   "source": [
    "df_train = {'Text': x_train,'Language': y_train}\n",
    "df_train = pd.DataFrame(df_train)\n",
    "#df_train = df_train.set_index('Text')\n",
    "df_train"
   ]
  },
  {
   "cell_type": "code",
   "execution_count": 29,
   "metadata": {
    "colab": {
     "base_uri": "https://localhost:8080/",
     "height": 406
    },
    "executionInfo": {
     "elapsed": 793,
     "status": "ok",
     "timestamp": 1619987529741,
     "user": {
      "displayName": "Robin",
      "photoUrl": "https://lh3.googleusercontent.com/a-/AOh14GjtqPWqo9lktC_ndwCmmDQam0Lw7d08Dwh80oXfIg=s64",
      "userId": "06113191287291968679"
     },
     "user_tz": -120
    },
    "id": "wyQapStmx90z",
    "outputId": "a511d891-771c-4e1f-9c1b-7f6d81306b5d"
   },
   "outputs": [
    {
     "data": {
      "text/html": [
       "<div>\n",
       "<style scoped>\n",
       "    .dataframe tbody tr th:only-of-type {\n",
       "        vertical-align: middle;\n",
       "    }\n",
       "\n",
       "    .dataframe tbody tr th {\n",
       "        vertical-align: top;\n",
       "    }\n",
       "\n",
       "    .dataframe thead th {\n",
       "        text-align: right;\n",
       "    }\n",
       "</style>\n",
       "<table border=\"1\" class=\"dataframe\">\n",
       "  <thead>\n",
       "    <tr style=\"text-align: right;\">\n",
       "      <th></th>\n",
       "      <th>text</th>\n",
       "      <th>Language</th>\n",
       "    </tr>\n",
       "  </thead>\n",
       "  <tbody>\n",
       "    <tr>\n",
       "      <th>4293</th>\n",
       "      <td>\\tSpecializing in one specific subject is bett...</td>\n",
       "      <td>TUR</td>\n",
       "    </tr>\n",
       "    <tr>\n",
       "      <th>5742</th>\n",
       "      <td>I agree with the statement. In my opinion it i...</td>\n",
       "      <td>DEU</td>\n",
       "    </tr>\n",
       "    <tr>\n",
       "      <th>5630</th>\n",
       "      <td>as far as i concerned i agree with the stateme...</td>\n",
       "      <td>TEL</td>\n",
       "    </tr>\n",
       "    <tr>\n",
       "      <th>6880</th>\n",
       "      <td>\\tNowadays,  people argue that young people en...</td>\n",
       "      <td>TUR</td>\n",
       "    </tr>\n",
       "    <tr>\n",
       "      <th>5347</th>\n",
       "      <td>I will agree with the given statement which is...</td>\n",
       "      <td>TEL</td>\n",
       "    </tr>\n",
       "    <tr>\n",
       "      <th>...</th>\n",
       "      <td>...</td>\n",
       "      <td>...</td>\n",
       "    </tr>\n",
       "    <tr>\n",
       "      <th>1059</th>\n",
       "      <td>in this case i could agree because when someon...</td>\n",
       "      <td>SPA</td>\n",
       "    </tr>\n",
       "    <tr>\n",
       "      <th>1702</th>\n",
       "      <td>Nowadays, we can see a lot of cars in all stre...</td>\n",
       "      <td>FRA</td>\n",
       "    </tr>\n",
       "    <tr>\n",
       "      <th>6723</th>\n",
       "      <td>Everyday in our lives we can see products' adv...</td>\n",
       "      <td>ITA</td>\n",
       "    </tr>\n",
       "    <tr>\n",
       "      <th>677</th>\n",
       "      <td>To me, the whole point of advertising is to se...</td>\n",
       "      <td>SPA</td>\n",
       "    </tr>\n",
       "    <tr>\n",
       "      <th>406</th>\n",
       "      <td>There has been a on going debate whether it is...</td>\n",
       "      <td>KOR</td>\n",
       "    </tr>\n",
       "  </tbody>\n",
       "</table>\n",
       "<p>1100 rows × 2 columns</p>\n",
       "</div>"
      ],
      "text/plain": [
       "                                                   text Language\n",
       "4293  \\tSpecializing in one specific subject is bett...      TUR\n",
       "5742  I agree with the statement. In my opinion it i...      DEU\n",
       "5630  as far as i concerned i agree with the stateme...      TEL\n",
       "6880  \\tNowadays,  people argue that young people en...      TUR\n",
       "5347  I will agree with the given statement which is...      TEL\n",
       "...                                                 ...      ...\n",
       "1059  in this case i could agree because when someon...      SPA\n",
       "1702  Nowadays, we can see a lot of cars in all stre...      FRA\n",
       "6723  Everyday in our lives we can see products' adv...      ITA\n",
       "677   To me, the whole point of advertising is to se...      SPA\n",
       "406   There has been a on going debate whether it is...      KOR\n",
       "\n",
       "[1100 rows x 2 columns]"
      ]
     },
     "execution_count": 29,
     "metadata": {
      "tags": []
     },
     "output_type": "execute_result"
    }
   ],
   "source": [
    "d = {'text': x_dev,'Language': y_dev}\n",
    "df_dev = pd.DataFrame(d)\n",
    "#df_dev = df_dev.set_index('Text')\n",
    "df_dev"
   ]
  },
  {
   "cell_type": "markdown",
   "metadata": {
    "id": "08hIQonO_49x"
   },
   "source": [
    "### Building the model\n"
   ]
  },
  {
   "cell_type": "code",
   "execution_count": null,
   "metadata": {
    "colab": {
     "base_uri": "https://localhost:8080/",
     "height": 1000
    },
    "executionInfo": {
     "elapsed": 35116,
     "status": "ok",
     "timestamp": 1619854572702,
     "user": {
      "displayName": "BoundingSlinky",
      "photoUrl": "https://lh3.googleusercontent.com/a-/AOh14Gg39-hR_TNqJ_59YNcAIkf6SEDK7ZIZhvMbODZQUg=s64",
      "userId": "06113191287291968679"
     },
     "user_tz": -120
    },
    "id": "LGod7FC5_7DC",
    "outputId": "0ea21b09-b1fd-4d3c-bd38-ddc56b4aca2c"
   },
   "outputs": [
    {
     "name": "stderr",
     "output_type": "stream",
     "text": [
      "ERROR: Invalid requirement: '#'\n"
     ]
    }
   ],
   "source": [
    "# Install the simpletransformers library (restart your runtime after the installation, make sure that GPU is activated in 'Change runtime time')\n",
    "!pip install simpletransformers==0.60.9 # documentation: simpletransformers.ai (wrapper for the huggingface transformers library (huggingface.co) on PyTorch)\n"
   ]
  },
  {
   "cell_type": "code",
   "execution_count": null,
   "metadata": {
    "colab": {
     "base_uri": "https://localhost:8080/"
    },
    "executionInfo": {
     "elapsed": 4214,
     "status": "ok",
     "timestamp": 1619854748386,
     "user": {
      "displayName": "BoundingSlinky",
      "photoUrl": "https://lh3.googleusercontent.com/a-/AOh14Gg39-hR_TNqJ_59YNcAIkf6SEDK7ZIZhvMbODZQUg=s64",
      "userId": "06113191287291968679"
     },
     "user_tz": -120
    },
    "id": "3xUpAN7JB4HG",
    "outputId": "c0dd7853-ccd1-46d7-aa7d-f13a498b1fd0"
   },
   "outputs": [
    {
     "name": "stdout",
     "output_type": "stream",
     "text": [
      "Requirement already satisfied: torch in /usr/local/lib/python3.7/dist-packages (1.8.1+cu101)\n",
      "Requirement already satisfied: torchvision in /usr/local/lib/python3.7/dist-packages (0.9.1+cu101)\n",
      "Collecting torchaudio\n",
      "\u001b[?25l  Downloading https://files.pythonhosted.org/packages/aa/55/01ad9244bcd595e39cea5ce30726a7fe02fd963d07daeb136bfe7e23f0a5/torchaudio-0.8.1-cp37-cp37m-manylinux1_x86_64.whl (1.9MB)\n",
      "\u001b[K     |████████████████████████████████| 1.9MB 7.6MB/s \n",
      "\u001b[?25hRequirement already satisfied: typing-extensions in /usr/local/lib/python3.7/dist-packages (from torch) (3.7.4.3)\n",
      "Requirement already satisfied: numpy in /usr/local/lib/python3.7/dist-packages (from torch) (1.19.5)\n",
      "Requirement already satisfied: pillow>=4.1.1 in /usr/local/lib/python3.7/dist-packages (from torchvision) (7.1.2)\n",
      "Installing collected packages: torchaudio\n",
      "Successfully installed torchaudio-0.8.1\n"
     ]
    }
   ],
   "source": [
    "pip install torch torchvision torchaudio"
   ]
  },
  {
   "cell_type": "code",
   "execution_count": null,
   "metadata": {
    "id": "rbv5bbVzB630"
   },
   "outputs": [],
   "source": [
    "# Import libraries\n",
    "import pandas as pd\n",
    "import numpy as np\n",
    "import sklearn\n",
    "from sklearn.metrics import classification_report\n",
    "from simpletransformers.classification import ClassificationModel, ClassificationArgs\n",
    "import matplotlib.pyplot as plt \n",
    "import seaborn as sn "
   ]
  },
  {
   "cell_type": "code",
   "execution_count": null,
   "metadata": {
    "id": "oD5c2PV5B8Vl"
   },
   "outputs": [],
   "source": [
    "# Model configuration # https://simpletransformers.ai/docs/usage/#configuring-a-simple-transformers-model \n",
    "model_args = ClassificationArgs()\n",
    "\n",
    "model_args.overwrite_output_dir=True # overwrite existing saved models in the same directory\n",
    "model_args.labels_list=['KOR','DEU','TUR','ZHO','TEL','ARA','SPA','HIN','JPN','FRA','ITA']\n",
    "model_args.evaluate_during_training=True # to perform evaluation while training the model (eval data should be passed to the training method)\n",
    "\n",
    "model_args.num_train_epochs=1\n",
    "model_args.train_batch_size=128\n",
    "model_args.learning_rate=1e-5 \n",
    "model_args.max_seq_length=256\n",
    "\n",
    "# Early stopping to combat overfitting: https://simpletransformers.ai/docs/tips-and-tricks/#using-early-stopping\n",
    "model_args.use_early_stopping=True\n",
    "model_args.early_stopping_delta=0.01 # \"The improvement over best_eval_loss necessary to count as a better checkpoint\"\n",
    "model_args.early_stopping_metric='eval_loss'\n",
    "model_args.early_stopping_metric_minimize=True \n",
    "model_args.early_stopping_patience= 3 \n",
    "model_args.evaluate_during_training_steps= 32 # how often you want to run validation in terms of training steps (or batches)\n",
    "\n",
    "model_args.evaluate_during_training_silent=False\n",
    "model_args.evaluate_each_epoch=False\n",
    "model_args.manual_seed = 11\n",
    "\n",
    "# With this configuration, the training will terminate if the eval_loss on the evaluation data does not improve upon the best eval_loss by at least 0.01 for 2 consecutive evaluations. \n",
    "# An evaluation will occur once for every 34 training steps."
   ]
  },
  {
   "cell_type": "code",
   "execution_count": null,
   "metadata": {
    "colab": {
     "base_uri": "https://localhost:8080/"
    },
    "executionInfo": {
     "elapsed": 345,
     "status": "ok",
     "timestamp": 1619854814423,
     "user": {
      "displayName": "BoundingSlinky",
      "photoUrl": "https://lh3.googleusercontent.com/a-/AOh14Gg39-hR_TNqJ_59YNcAIkf6SEDK7ZIZhvMbODZQUg=s64",
      "userId": "06113191287291968679"
     },
     "user_tz": -120
    },
    "id": "75teN-udCAgg",
    "outputId": "2dad8c52-9af2-49e0-8bde-5a9f6b979cf6"
   },
   "outputs": [
    {
     "name": "stdout",
     "output_type": "stream",
     "text": [
      "Each epoch will have 86 steps.\n"
     ]
    }
   ],
   "source": [
    "# Checking steps per epoch\n",
    "steps_per_epoch = int(np.ceil(len(train) / float(model_args.train_batch_size)))\n",
    "print('Each epoch will have {:,} steps.'.format(steps_per_epoch)) # 34 steps = validating 2 times per epoch"
   ]
  },
  {
   "cell_type": "code",
   "execution_count": null,
   "metadata": {
    "colab": {
     "base_uri": "https://localhost:8080/",
     "height": 285,
     "referenced_widgets": [
      "8bf26b59f4ec46a4b959afd6c0dd16db",
      "ba1b4cc2be0144c89c85edd7fb3f5331",
      "1ecc4af6cdf64b4f87a91e49d455e4ee",
      "b74b5cf35bf848b4935248a6c47d3cab",
      "bffd34c077464dfc98b9318737ff2c30",
      "0d75ae8043664e369f2945067fac4405",
      "2a636770ebad43bb9ec639930f98561a",
      "70db2613194a493487b5dbfbc3c4be64",
      "30b5048c35394701967b02fb8fe81330",
      "244fe27e7ade4d12be363b0dc9c1a0db",
      "1ae04d2100f444009eb564aaa29819d6",
      "f5d7879b15114215be94a577b68c5276",
      "c3a0c254529946099a1f65987b9c1a41",
      "7b770930761743348a8f19ee1c1c850d",
      "f80aba995ea54c55a08134ba14383efd",
      "392ebf55c7cc4dff9e591eee2d48e6cc",
      "6692465796354cc0bb6c4f127d71096b",
      "469ac7b5b6114dd499813d8afd607fbb",
      "a094f0a286734543b3d7288679bef922",
      "f3dbdf0b969d4a5c8c15723f0fe39912",
      "79ba5822886642bb86ac6dd2155b584d",
      "37e7db594a9c4dbab9aeda05c6eee89e",
      "a16486f1cedc4914a311656351b77914",
      "ac891db44a094eb88e2be19c79b41da2",
      "e4d6da1044b444f99c20dccb6b87df59",
      "8a3ec047f63a49e99db0b27bc7ed2194",
      "2bccb977882b4cb6b402ec775fee5cc2",
      "7afbf49e95594b1ca1c3fa1e253bc6f9",
      "aa91b86f4a0d453c9100e86acfe1b24e",
      "51f3c516496040cb91b396f18bc09535",
      "f124973a3c364a4bb7042d572c7b3a3e",
      "8d0eef902031421089c24a3564b55737",
      "e0ea844b4fe74e6dba037121f428749b",
      "2a261c936d4a4d02bc2000d123c7d3f6",
      "fb8dad2e416a4a56894acb3e9273264a",
      "48fbb2040ca64581830fce835f52c335",
      "ad699b91b65843d28783e940dc3e8bd6",
      "081dde80194440078e9994378fb9dc31",
      "d6817b69c8ab4348b2112131b5292833",
      "bee13f092423463e84a1d60cdb91eb4a",
      "7beca924fa1b4267853fe0b20681b75c",
      "d20dc08c1ea04e968d31975f8a17a0ed",
      "0eae1fa45bfc4b119adbcac6b292cc0a",
      "081cdbd4a52d40378922d169a3587a01",
      "20eb6fbffc4c47a2af7b65e5ac9c28b4",
      "6c40c40399c4481c9056347f7c8221ab",
      "b8d036964dca404e91f8e963f607dbcd",
      "ab7a12395f5548eab230c65ecc56c475",
      "b6d8d86fb2f24956815eddc735ded3cc",
      "f590f100b46d4d4b96b4e2fe47fb98b0",
      "72bf905b461f4d5f907b2fdd22367d09",
      "1739536724c142b9a176ae12a90e0c97",
      "210c45118b864b0b9aed65393566123f",
      "c75de42c929b4ba48da538dd694e8911",
      "91d1b8919fb445ce922abeee0f990f40"
     ]
    },
    "executionInfo": {
     "elapsed": 21318,
     "status": "ok",
     "timestamp": 1619854838235,
     "user": {
      "displayName": "BoundingSlinky",
      "photoUrl": "https://lh3.googleusercontent.com/a-/AOh14Gg39-hR_TNqJ_59YNcAIkf6SEDK7ZIZhvMbODZQUg=s64",
      "userId": "06113191287291968679"
     },
     "user_tz": -120
    },
    "id": "aJmKCXdJCBuT",
    "outputId": "ea5ec2aa-1446-4918-acae-f7f4281ea215"
   },
   "outputs": [
    {
     "data": {
      "application/vnd.jupyter.widget-view+json": {
       "model_id": "8bf26b59f4ec46a4b959afd6c0dd16db",
       "version_major": 2,
       "version_minor": 0
      },
      "text/plain": [
       "Downloading:   0%|          | 0.00/570 [00:00<?, ?B/s]"
      ]
     },
     "metadata": {
      "tags": []
     },
     "output_type": "display_data"
    },
    {
     "data": {
      "application/vnd.jupyter.widget-view+json": {
       "model_id": "f5d7879b15114215be94a577b68c5276",
       "version_major": 2,
       "version_minor": 0
      },
      "text/plain": [
       "Downloading:   0%|          | 0.00/436M [00:00<?, ?B/s]"
      ]
     },
     "metadata": {
      "tags": []
     },
     "output_type": "display_data"
    },
    {
     "name": "stderr",
     "output_type": "stream",
     "text": [
      "Some weights of the model checkpoint at bert-base-cased were not used when initializing BertForSequenceClassification: ['cls.predictions.bias', 'cls.predictions.transform.dense.weight', 'cls.predictions.transform.dense.bias', 'cls.predictions.decoder.weight', 'cls.seq_relationship.weight', 'cls.seq_relationship.bias', 'cls.predictions.transform.LayerNorm.weight', 'cls.predictions.transform.LayerNorm.bias']\n",
      "- This IS expected if you are initializing BertForSequenceClassification from the checkpoint of a model trained on another task or with another architecture (e.g. initializing a BertForSequenceClassification model from a BertForPreTraining model).\n",
      "- This IS NOT expected if you are initializing BertForSequenceClassification from the checkpoint of a model that you expect to be exactly identical (initializing a BertForSequenceClassification model from a BertForSequenceClassification model).\n",
      "Some weights of BertForSequenceClassification were not initialized from the model checkpoint at bert-base-cased and are newly initialized: ['classifier.weight', 'classifier.bias']\n",
      "You should probably TRAIN this model on a down-stream task to be able to use it for predictions and inference.\n"
     ]
    },
    {
     "data": {
      "application/vnd.jupyter.widget-view+json": {
       "model_id": "a16486f1cedc4914a311656351b77914",
       "version_major": 2,
       "version_minor": 0
      },
      "text/plain": [
       "Downloading:   0%|          | 0.00/213k [00:00<?, ?B/s]"
      ]
     },
     "metadata": {
      "tags": []
     },
     "output_type": "display_data"
    },
    {
     "data": {
      "application/vnd.jupyter.widget-view+json": {
       "model_id": "2a261c936d4a4d02bc2000d123c7d3f6",
       "version_major": 2,
       "version_minor": 0
      },
      "text/plain": [
       "Downloading:   0%|          | 0.00/29.0 [00:00<?, ?B/s]"
      ]
     },
     "metadata": {
      "tags": []
     },
     "output_type": "display_data"
    },
    {
     "data": {
      "application/vnd.jupyter.widget-view+json": {
       "model_id": "20eb6fbffc4c47a2af7b65e5ac9c28b4",
       "version_major": 2,
       "version_minor": 0
      },
      "text/plain": [
       "Downloading:   0%|          | 0.00/436k [00:00<?, ?B/s]"
      ]
     },
     "metadata": {
      "tags": []
     },
     "output_type": "display_data"
    }
   ],
   "source": [
    "model = ClassificationModel('bert', 'bert-base-cased', num_labels=11, args=model_args, use_cuda=True)"
   ]
  },
  {
   "cell_type": "code",
   "execution_count": null,
   "metadata": {
    "colab": {
     "base_uri": "https://localhost:8080/"
    },
    "executionInfo": {
     "elapsed": 530,
     "status": "ok",
     "timestamp": 1619854843800,
     "user": {
      "displayName": "BoundingSlinky",
      "photoUrl": "https://lh3.googleusercontent.com/a-/AOh14Gg39-hR_TNqJ_59YNcAIkf6SEDK7ZIZhvMbODZQUg=s64",
      "userId": "06113191287291968679"
     },
     "user_tz": -120
    },
    "id": "7h-ZnUtaCC_w",
    "outputId": "a0bfc24e-1dd5-4a43-d9a0-567f110c7384"
   },
   "outputs": [
    {
     "name": "stdout",
     "output_type": "stream",
     "text": [
      "ClassificationArgs(adam_epsilon=1e-08\n",
      " best_model_dir='outputs/best_model'\n",
      " cache_dir='cache_dir/'\n",
      " config={}\n",
      " cosine_schedule_num_cycles=0.5\n",
      " custom_layer_parameters=[]\n",
      " custom_parameter_groups=[]\n",
      " dataloader_num_workers=0\n",
      " do_lower_case=False\n",
      " dynamic_quantize=False\n",
      " early_stopping_consider_epochs=False\n",
      " early_stopping_delta=0.01\n",
      " early_stopping_metric='eval_loss'\n",
      " early_stopping_metric_minimize=True\n",
      " early_stopping_patience=3\n",
      " encoding=None\n",
      " adafactor_eps=(1e-30\n",
      " 0.001)\n",
      " adafactor_clip_threshold=1.0\n",
      " adafactor_decay_rate=-0.8\n",
      " adafactor_beta1=None\n",
      " adafactor_scale_parameter=True\n",
      " adafactor_relative_step=True\n",
      " adafactor_warmup_init=True\n",
      " eval_batch_size=8\n",
      " evaluate_during_training=True\n",
      " evaluate_during_training_silent=False\n",
      " evaluate_during_training_steps=32\n",
      " evaluate_during_training_verbose=False\n",
      " evaluate_each_epoch=False\n",
      " fp16=True\n",
      " gradient_accumulation_steps=1\n",
      " learning_rate=1e-05\n",
      " local_rank=-1\n",
      " logging_steps=50\n",
      " manual_seed=11\n",
      " max_grad_norm=1.0\n",
      " max_seq_length=256\n",
      " model_name='bert-base-cased'\n",
      " model_type='bert'\n",
      " multiprocessing_chunksize=-1\n",
      " n_gpu=1\n",
      " no_cache=False\n",
      " no_save=False\n",
      " not_saved_args=[]\n",
      " num_train_epochs=1\n",
      " optimizer='AdamW'\n",
      " output_dir='outputs/'\n",
      " overwrite_output_dir=True\n",
      " process_count=1\n",
      " polynomial_decay_schedule_lr_end=1e-07\n",
      " polynomial_decay_schedule_power=1.0\n",
      " quantized_model=False\n",
      " reprocess_input_data=True\n",
      " save_best_model=True\n",
      " save_eval_checkpoints=True\n",
      " save_model_every_epoch=True\n",
      " save_optimizer_and_scheduler=True\n",
      " save_steps=2000\n",
      " scheduler='linear_schedule_with_warmup'\n",
      " silent=False\n",
      " skip_special_tokens=True\n",
      " tensorboard_dir=None\n",
      " thread_count=None\n",
      " tokenizer_type=None\n",
      " tokenizer_name='bert-base-cased'\n",
      " train_batch_size=128\n",
      " train_custom_parameters_only=False\n",
      " use_cached_eval_features=False\n",
      " use_early_stopping=True\n",
      " use_multiprocessing=True\n",
      " use_multiprocessing_for_evaluation=False\n",
      " wandb_kwargs={}\n",
      " wandb_project=None\n",
      " warmup_ratio=0.06\n",
      " warmup_steps=0\n",
      " weight_decay=0.0\n",
      " model_class='ClassificationModel'\n",
      " labels_list=['KOR'\n",
      " 'DEU'\n",
      " 'TUR'\n",
      " 'ZHO'\n",
      " 'TEL'\n",
      " 'ARA'\n",
      " 'SPA'\n",
      " 'HIN'\n",
      " 'JPN'\n",
      " 'FRA'\n",
      " 'ITA']\n",
      " labels_map={'KOR': 0\n",
      " 'DEU': 1\n",
      " 'TUR': 2\n",
      " 'ZHO': 3\n",
      " 'TEL': 4\n",
      " 'ARA': 5\n",
      " 'SPA': 6\n",
      " 'HIN': 7\n",
      " 'JPN': 8\n",
      " 'FRA': 9\n",
      " 'ITA': 10}\n",
      " lazy_delimiter='\\t'\n",
      " lazy_labels_column=1\n",
      " lazy_loading=False\n",
      " lazy_loading_start_line=1\n",
      " lazy_text_a_column=None\n",
      " lazy_text_b_column=None\n",
      " lazy_text_column=0\n",
      " onnx=False\n",
      " regression=False\n",
      " sliding_window=False\n",
      " special_tokens_list=[]\n",
      " stride=0.8\n",
      " tie_value=1)\n"
     ]
    }
   ],
   "source": [
    "print(str(model.args).replace(',', '\\n'))"
   ]
  },
  {
   "cell_type": "markdown",
   "metadata": {
    "id": "qpCHCZuX31NG"
   },
   "source": [
    "Training the model"
   ]
  },
  {
   "cell_type": "code",
   "execution_count": null,
   "metadata": {
    "colab": {
     "base_uri": "https://localhost:8080/",
     "height": 483,
     "referenced_widgets": [
      "4bf28a987975440d892fba1c346d23c9",
      "6abad4b351a346d4b724894084846a50",
      "ca6b0de3266a4874a3a38df1d6291536",
      "40c2ae2475ed4a23a525d8eb543460aa",
      "5b570d868fd746eda54bde138a69cc1d",
      "b937b407aee94526aad1b0def8f80bd1",
      "603af91ff11c4ed49a950d55980b0963",
      "a4b9eed69a6b49359ee7eec6ccc8e6b5",
      "5a02abab80f94b0f83e7f75ad9326330",
      "f9c649d7f43a47c2bdf3b1fd489f903a",
      "7647c0d920204fabb08b3328c103f6ae",
      "d789d7edf19a44e1a36efae500614a66",
      "03dd41ca33b54d5b83cfa00f4e9dfc27",
      "1627399c7ed84aa99448bd9d729146b6",
      "01bc6119dd05406abdf0b88f5d4cc912",
      "75928a956b114a19859d7533526e1b77",
      "5ab71665a28543a18f75c104e1508fea",
      "66f1f6c2c4d8449a8006c415a98ae6ef",
      "2dd9e68540864872b8aabe681c584288",
      "2f978a6059b9490d8a404330725a550c",
      "9d2c20eb7055418c90db1a89f495b1ba",
      "dcef331f6a424eca8063cf35921be57a",
      "87f900c369884d91a485e816ec2bfe1d",
      "0820591337c14ad697c2b2edf5613c11",
      "50330ba9403d48c5875b9c5473728074",
      "5b489c1c1a204701bea320dd535ca984",
      "ec9f1b3c948940e0bc48a1b53e8b883a",
      "a7139670847845d9bbb4106d9b4778cd",
      "037cb42b4fb840dc9ce03446e5503e9f",
      "c7937071b1b0446789c6b10df1ddd4ec",
      "10f0667062ef4a33b617e2b18ec6bd55",
      "e3289b99bdf64e31a5ed6b654ac13c64",
      "3333a412acf048c6a8bc06a8f1b059f6"
     ]
    },
    "collapsed": true,
    "executionInfo": {
     "elapsed": 64524,
     "status": "error",
     "timestamp": 1619855317282,
     "user": {
      "displayName": "BoundingSlinky",
      "photoUrl": "https://lh3.googleusercontent.com/a-/AOh14Gg39-hR_TNqJ_59YNcAIkf6SEDK7ZIZhvMbODZQUg=s64",
      "userId": "06113191287291968679"
     },
     "user_tz": -120
    },
    "id": "4zIIjFyT3rLG",
    "jupyter": {
     "outputs_hidden": true
    },
    "outputId": "c39d589f-3f65-4a21-d4a5-6fabdcb4f68c"
   },
   "outputs": [
    {
     "name": "stderr",
     "output_type": "stream",
     "text": [
      "/usr/local/lib/python3.7/dist-packages/simpletransformers/classification/classification_model.py:446: UserWarning: Dataframe headers not specified. Falling back to using column 0 as text and column 1 as labels.\n",
      "  \"Dataframe headers not specified. Falling back to using column 0 as text and column 1 as labels.\"\n"
     ]
    },
    {
     "data": {
      "application/vnd.jupyter.widget-view+json": {
       "model_id": "4bf28a987975440d892fba1c346d23c9",
       "version_major": 2,
       "version_minor": 0
      },
      "text/plain": [
       "  0%|          | 0/2 [00:00<?, ?it/s]"
      ]
     },
     "metadata": {
      "tags": []
     },
     "output_type": "display_data"
    },
    {
     "data": {
      "application/vnd.jupyter.widget-view+json": {
       "model_id": "d789d7edf19a44e1a36efae500614a66",
       "version_major": 2,
       "version_minor": 0
      },
      "text/plain": [
       "Epoch:   0%|          | 0/1 [00:00<?, ?it/s]"
      ]
     },
     "metadata": {
      "tags": []
     },
     "output_type": "display_data"
    },
    {
     "data": {
      "application/vnd.jupyter.widget-view+json": {
       "model_id": "87f900c369884d91a485e816ec2bfe1d",
       "version_major": 2,
       "version_minor": 0
      },
      "text/plain": [
       "Running Epoch 0 of 1:   0%|          | 0/78 [00:00<?, ?it/s]"
      ]
     },
     "metadata": {
      "tags": []
     },
     "output_type": "display_data"
    },
    {
     "ename": "RuntimeError",
     "evalue": "ignored",
     "output_type": "error",
     "traceback": [
      "\u001b[0;31m---------------------------------------------------------------------------\u001b[0m",
      "\u001b[0;31mRuntimeError\u001b[0m                              Traceback (most recent call last)",
      "\u001b[0;32m<ipython-input-18-fb394b84049f>\u001b[0m in \u001b[0;36m<module>\u001b[0;34m()\u001b[0m\n\u001b[1;32m      1\u001b[0m \u001b[0;31m# Train the model (takes a while)\u001b[0m\u001b[0;34m\u001b[0m\u001b[0;34m\u001b[0m\u001b[0;34m\u001b[0m\u001b[0m\n\u001b[1;32m      2\u001b[0m \u001b[0;34m\u001b[0m\u001b[0m\n\u001b[0;32m----> 3\u001b[0;31m \u001b[0m_\u001b[0m\u001b[0;34m,\u001b[0m \u001b[0mhistory\u001b[0m \u001b[0;34m=\u001b[0m \u001b[0mmodel\u001b[0m\u001b[0;34m.\u001b[0m\u001b[0mtrain_model\u001b[0m\u001b[0;34m(\u001b[0m\u001b[0mdf_train\u001b[0m\u001b[0;34m,\u001b[0m \u001b[0meval_df\u001b[0m\u001b[0;34m=\u001b[0m\u001b[0mdf_dev\u001b[0m\u001b[0;34m)\u001b[0m\u001b[0;34m\u001b[0m\u001b[0;34m\u001b[0m\u001b[0m\n\u001b[0m",
      "\u001b[0;32m/usr/local/lib/python3.7/dist-packages/simpletransformers/classification/classification_model.py\u001b[0m in \u001b[0;36mtrain_model\u001b[0;34m(self, train_df, multi_label, output_dir, show_running_loss, args, eval_df, verbose, **kwargs)\u001b[0m\n\u001b[1;32m    468\u001b[0m             \u001b[0meval_df\u001b[0m\u001b[0;34m=\u001b[0m\u001b[0meval_df\u001b[0m\u001b[0;34m,\u001b[0m\u001b[0;34m\u001b[0m\u001b[0;34m\u001b[0m\u001b[0m\n\u001b[1;32m    469\u001b[0m             \u001b[0mverbose\u001b[0m\u001b[0;34m=\u001b[0m\u001b[0mverbose\u001b[0m\u001b[0;34m,\u001b[0m\u001b[0;34m\u001b[0m\u001b[0;34m\u001b[0m\u001b[0m\n\u001b[0;32m--> 470\u001b[0;31m             \u001b[0;34m**\u001b[0m\u001b[0mkwargs\u001b[0m\u001b[0;34m,\u001b[0m\u001b[0;34m\u001b[0m\u001b[0;34m\u001b[0m\u001b[0m\n\u001b[0m\u001b[1;32m    471\u001b[0m         )\n\u001b[1;32m    472\u001b[0m \u001b[0;34m\u001b[0m\u001b[0m\n",
      "\u001b[0;32m/usr/local/lib/python3.7/dist-packages/simpletransformers/classification/classification_model.py\u001b[0m in \u001b[0;36mtrain\u001b[0;34m(self, train_dataloader, output_dir, multi_label, show_running_loss, eval_df, verbose, **kwargs)\u001b[0m\n\u001b[1;32m    694\u001b[0m                 \u001b[0;32mif\u001b[0m \u001b[0mself\u001b[0m\u001b[0;34m.\u001b[0m\u001b[0margs\u001b[0m\u001b[0;34m.\u001b[0m\u001b[0mfp16\u001b[0m\u001b[0;34m:\u001b[0m\u001b[0;34m\u001b[0m\u001b[0;34m\u001b[0m\u001b[0m\n\u001b[1;32m    695\u001b[0m                     \u001b[0;32mwith\u001b[0m \u001b[0mamp\u001b[0m\u001b[0;34m.\u001b[0m\u001b[0mautocast\u001b[0m\u001b[0;34m(\u001b[0m\u001b[0;34m)\u001b[0m\u001b[0;34m:\u001b[0m\u001b[0;34m\u001b[0m\u001b[0;34m\u001b[0m\u001b[0m\n\u001b[0;32m--> 696\u001b[0;31m                         \u001b[0moutputs\u001b[0m \u001b[0;34m=\u001b[0m \u001b[0mmodel\u001b[0m\u001b[0;34m(\u001b[0m\u001b[0;34m**\u001b[0m\u001b[0minputs\u001b[0m\u001b[0;34m)\u001b[0m\u001b[0;34m\u001b[0m\u001b[0;34m\u001b[0m\u001b[0m\n\u001b[0m\u001b[1;32m    697\u001b[0m                         \u001b[0;31m# model outputs are always tuple in pytorch-transformers (see doc)\u001b[0m\u001b[0;34m\u001b[0m\u001b[0;34m\u001b[0m\u001b[0;34m\u001b[0m\u001b[0m\n\u001b[1;32m    698\u001b[0m                         \u001b[0mloss\u001b[0m \u001b[0;34m=\u001b[0m \u001b[0moutputs\u001b[0m\u001b[0;34m[\u001b[0m\u001b[0;36m0\u001b[0m\u001b[0;34m]\u001b[0m\u001b[0;34m\u001b[0m\u001b[0;34m\u001b[0m\u001b[0m\n",
      "\u001b[0;32m/usr/local/lib/python3.7/dist-packages/torch/nn/modules/module.py\u001b[0m in \u001b[0;36m_call_impl\u001b[0;34m(self, *input, **kwargs)\u001b[0m\n\u001b[1;32m    887\u001b[0m             \u001b[0mresult\u001b[0m \u001b[0;34m=\u001b[0m \u001b[0mself\u001b[0m\u001b[0;34m.\u001b[0m\u001b[0m_slow_forward\u001b[0m\u001b[0;34m(\u001b[0m\u001b[0;34m*\u001b[0m\u001b[0minput\u001b[0m\u001b[0;34m,\u001b[0m \u001b[0;34m**\u001b[0m\u001b[0mkwargs\u001b[0m\u001b[0;34m)\u001b[0m\u001b[0;34m\u001b[0m\u001b[0;34m\u001b[0m\u001b[0m\n\u001b[1;32m    888\u001b[0m         \u001b[0;32melse\u001b[0m\u001b[0;34m:\u001b[0m\u001b[0;34m\u001b[0m\u001b[0;34m\u001b[0m\u001b[0m\n\u001b[0;32m--> 889\u001b[0;31m             \u001b[0mresult\u001b[0m \u001b[0;34m=\u001b[0m \u001b[0mself\u001b[0m\u001b[0;34m.\u001b[0m\u001b[0mforward\u001b[0m\u001b[0;34m(\u001b[0m\u001b[0;34m*\u001b[0m\u001b[0minput\u001b[0m\u001b[0;34m,\u001b[0m \u001b[0;34m**\u001b[0m\u001b[0mkwargs\u001b[0m\u001b[0;34m)\u001b[0m\u001b[0;34m\u001b[0m\u001b[0;34m\u001b[0m\u001b[0m\n\u001b[0m\u001b[1;32m    890\u001b[0m         for hook in itertools.chain(\n\u001b[1;32m    891\u001b[0m                 \u001b[0m_global_forward_hooks\u001b[0m\u001b[0;34m.\u001b[0m\u001b[0mvalues\u001b[0m\u001b[0;34m(\u001b[0m\u001b[0;34m)\u001b[0m\u001b[0;34m,\u001b[0m\u001b[0;34m\u001b[0m\u001b[0;34m\u001b[0m\u001b[0m\n",
      "\u001b[0;32m/usr/local/lib/python3.7/dist-packages/simpletransformers/classification/transformer_models/bert_model.py\u001b[0m in \u001b[0;36mforward\u001b[0;34m(self, input_ids, attention_mask, token_type_ids, position_ids, head_mask, inputs_embeds, labels)\u001b[0m\n\u001b[1;32m     60\u001b[0m             \u001b[0mtoken_type_ids\u001b[0m\u001b[0;34m=\u001b[0m\u001b[0mtoken_type_ids\u001b[0m\u001b[0;34m,\u001b[0m\u001b[0;34m\u001b[0m\u001b[0;34m\u001b[0m\u001b[0m\n\u001b[1;32m     61\u001b[0m             \u001b[0mposition_ids\u001b[0m\u001b[0;34m=\u001b[0m\u001b[0mposition_ids\u001b[0m\u001b[0;34m,\u001b[0m\u001b[0;34m\u001b[0m\u001b[0;34m\u001b[0m\u001b[0m\n\u001b[0;32m---> 62\u001b[0;31m             \u001b[0mhead_mask\u001b[0m\u001b[0;34m=\u001b[0m\u001b[0mhead_mask\u001b[0m\u001b[0;34m,\u001b[0m\u001b[0;34m\u001b[0m\u001b[0;34m\u001b[0m\u001b[0m\n\u001b[0m\u001b[1;32m     63\u001b[0m         )\n\u001b[1;32m     64\u001b[0m         \u001b[0;31m# Complains if input_embeds is kept\u001b[0m\u001b[0;34m\u001b[0m\u001b[0;34m\u001b[0m\u001b[0;34m\u001b[0m\u001b[0m\n",
      "\u001b[0;32m/usr/local/lib/python3.7/dist-packages/torch/nn/modules/module.py\u001b[0m in \u001b[0;36m_call_impl\u001b[0;34m(self, *input, **kwargs)\u001b[0m\n\u001b[1;32m    887\u001b[0m             \u001b[0mresult\u001b[0m \u001b[0;34m=\u001b[0m \u001b[0mself\u001b[0m\u001b[0;34m.\u001b[0m\u001b[0m_slow_forward\u001b[0m\u001b[0;34m(\u001b[0m\u001b[0;34m*\u001b[0m\u001b[0minput\u001b[0m\u001b[0;34m,\u001b[0m \u001b[0;34m**\u001b[0m\u001b[0mkwargs\u001b[0m\u001b[0;34m)\u001b[0m\u001b[0;34m\u001b[0m\u001b[0;34m\u001b[0m\u001b[0m\n\u001b[1;32m    888\u001b[0m         \u001b[0;32melse\u001b[0m\u001b[0;34m:\u001b[0m\u001b[0;34m\u001b[0m\u001b[0;34m\u001b[0m\u001b[0m\n\u001b[0;32m--> 889\u001b[0;31m             \u001b[0mresult\u001b[0m \u001b[0;34m=\u001b[0m \u001b[0mself\u001b[0m\u001b[0;34m.\u001b[0m\u001b[0mforward\u001b[0m\u001b[0;34m(\u001b[0m\u001b[0;34m*\u001b[0m\u001b[0minput\u001b[0m\u001b[0;34m,\u001b[0m \u001b[0;34m**\u001b[0m\u001b[0mkwargs\u001b[0m\u001b[0;34m)\u001b[0m\u001b[0;34m\u001b[0m\u001b[0;34m\u001b[0m\u001b[0m\n\u001b[0m\u001b[1;32m    890\u001b[0m         for hook in itertools.chain(\n\u001b[1;32m    891\u001b[0m                 \u001b[0m_global_forward_hooks\u001b[0m\u001b[0;34m.\u001b[0m\u001b[0mvalues\u001b[0m\u001b[0;34m(\u001b[0m\u001b[0;34m)\u001b[0m\u001b[0;34m,\u001b[0m\u001b[0;34m\u001b[0m\u001b[0;34m\u001b[0m\u001b[0m\n",
      "\u001b[0;32m/usr/local/lib/python3.7/dist-packages/transformers/models/bert/modeling_bert.py\u001b[0m in \u001b[0;36mforward\u001b[0;34m(self, input_ids, attention_mask, token_type_ids, position_ids, head_mask, inputs_embeds, encoder_hidden_states, encoder_attention_mask, past_key_values, use_cache, output_attentions, output_hidden_states, return_dict)\u001b[0m\n\u001b[1;32m    967\u001b[0m             \u001b[0mtoken_type_ids\u001b[0m\u001b[0;34m=\u001b[0m\u001b[0mtoken_type_ids\u001b[0m\u001b[0;34m,\u001b[0m\u001b[0;34m\u001b[0m\u001b[0;34m\u001b[0m\u001b[0m\n\u001b[1;32m    968\u001b[0m             \u001b[0minputs_embeds\u001b[0m\u001b[0;34m=\u001b[0m\u001b[0minputs_embeds\u001b[0m\u001b[0;34m,\u001b[0m\u001b[0;34m\u001b[0m\u001b[0;34m\u001b[0m\u001b[0m\n\u001b[0;32m--> 969\u001b[0;31m             \u001b[0mpast_key_values_length\u001b[0m\u001b[0;34m=\u001b[0m\u001b[0mpast_key_values_length\u001b[0m\u001b[0;34m,\u001b[0m\u001b[0;34m\u001b[0m\u001b[0;34m\u001b[0m\u001b[0m\n\u001b[0m\u001b[1;32m    970\u001b[0m         )\n\u001b[1;32m    971\u001b[0m         encoder_outputs = self.encoder(\n",
      "\u001b[0;32m/usr/local/lib/python3.7/dist-packages/torch/nn/modules/module.py\u001b[0m in \u001b[0;36m_call_impl\u001b[0;34m(self, *input, **kwargs)\u001b[0m\n\u001b[1;32m    887\u001b[0m             \u001b[0mresult\u001b[0m \u001b[0;34m=\u001b[0m \u001b[0mself\u001b[0m\u001b[0;34m.\u001b[0m\u001b[0m_slow_forward\u001b[0m\u001b[0;34m(\u001b[0m\u001b[0;34m*\u001b[0m\u001b[0minput\u001b[0m\u001b[0;34m,\u001b[0m \u001b[0;34m**\u001b[0m\u001b[0mkwargs\u001b[0m\u001b[0;34m)\u001b[0m\u001b[0;34m\u001b[0m\u001b[0;34m\u001b[0m\u001b[0m\n\u001b[1;32m    888\u001b[0m         \u001b[0;32melse\u001b[0m\u001b[0;34m:\u001b[0m\u001b[0;34m\u001b[0m\u001b[0;34m\u001b[0m\u001b[0m\n\u001b[0;32m--> 889\u001b[0;31m             \u001b[0mresult\u001b[0m \u001b[0;34m=\u001b[0m \u001b[0mself\u001b[0m\u001b[0;34m.\u001b[0m\u001b[0mforward\u001b[0m\u001b[0;34m(\u001b[0m\u001b[0;34m*\u001b[0m\u001b[0minput\u001b[0m\u001b[0;34m,\u001b[0m \u001b[0;34m**\u001b[0m\u001b[0mkwargs\u001b[0m\u001b[0;34m)\u001b[0m\u001b[0;34m\u001b[0m\u001b[0;34m\u001b[0m\u001b[0m\n\u001b[0m\u001b[1;32m    890\u001b[0m         for hook in itertools.chain(\n\u001b[1;32m    891\u001b[0m                 \u001b[0m_global_forward_hooks\u001b[0m\u001b[0;34m.\u001b[0m\u001b[0mvalues\u001b[0m\u001b[0;34m(\u001b[0m\u001b[0;34m)\u001b[0m\u001b[0;34m,\u001b[0m\u001b[0;34m\u001b[0m\u001b[0;34m\u001b[0m\u001b[0m\n",
      "\u001b[0;32m/usr/local/lib/python3.7/dist-packages/transformers/models/bert/modeling_bert.py\u001b[0m in \u001b[0;36mforward\u001b[0;34m(self, input_ids, token_type_ids, position_ids, inputs_embeds, past_key_values_length)\u001b[0m\n\u001b[1;32m    206\u001b[0m             \u001b[0mposition_embeddings\u001b[0m \u001b[0;34m=\u001b[0m \u001b[0mself\u001b[0m\u001b[0;34m.\u001b[0m\u001b[0mposition_embeddings\u001b[0m\u001b[0;34m(\u001b[0m\u001b[0mposition_ids\u001b[0m\u001b[0;34m)\u001b[0m\u001b[0;34m\u001b[0m\u001b[0;34m\u001b[0m\u001b[0m\n\u001b[1;32m    207\u001b[0m             \u001b[0membeddings\u001b[0m \u001b[0;34m+=\u001b[0m \u001b[0mposition_embeddings\u001b[0m\u001b[0;34m\u001b[0m\u001b[0;34m\u001b[0m\u001b[0m\n\u001b[0;32m--> 208\u001b[0;31m         \u001b[0membeddings\u001b[0m \u001b[0;34m=\u001b[0m \u001b[0mself\u001b[0m\u001b[0;34m.\u001b[0m\u001b[0mLayerNorm\u001b[0m\u001b[0;34m(\u001b[0m\u001b[0membeddings\u001b[0m\u001b[0;34m)\u001b[0m\u001b[0;34m\u001b[0m\u001b[0;34m\u001b[0m\u001b[0m\n\u001b[0m\u001b[1;32m    209\u001b[0m         \u001b[0membeddings\u001b[0m \u001b[0;34m=\u001b[0m \u001b[0mself\u001b[0m\u001b[0;34m.\u001b[0m\u001b[0mdropout\u001b[0m\u001b[0;34m(\u001b[0m\u001b[0membeddings\u001b[0m\u001b[0;34m)\u001b[0m\u001b[0;34m\u001b[0m\u001b[0;34m\u001b[0m\u001b[0m\n\u001b[1;32m    210\u001b[0m         \u001b[0;32mreturn\u001b[0m \u001b[0membeddings\u001b[0m\u001b[0;34m\u001b[0m\u001b[0;34m\u001b[0m\u001b[0m\n",
      "\u001b[0;32m/usr/local/lib/python3.7/dist-packages/torch/nn/modules/module.py\u001b[0m in \u001b[0;36m_call_impl\u001b[0;34m(self, *input, **kwargs)\u001b[0m\n\u001b[1;32m    887\u001b[0m             \u001b[0mresult\u001b[0m \u001b[0;34m=\u001b[0m \u001b[0mself\u001b[0m\u001b[0;34m.\u001b[0m\u001b[0m_slow_forward\u001b[0m\u001b[0;34m(\u001b[0m\u001b[0;34m*\u001b[0m\u001b[0minput\u001b[0m\u001b[0;34m,\u001b[0m \u001b[0;34m**\u001b[0m\u001b[0mkwargs\u001b[0m\u001b[0;34m)\u001b[0m\u001b[0;34m\u001b[0m\u001b[0;34m\u001b[0m\u001b[0m\n\u001b[1;32m    888\u001b[0m         \u001b[0;32melse\u001b[0m\u001b[0;34m:\u001b[0m\u001b[0;34m\u001b[0m\u001b[0;34m\u001b[0m\u001b[0m\n\u001b[0;32m--> 889\u001b[0;31m             \u001b[0mresult\u001b[0m \u001b[0;34m=\u001b[0m \u001b[0mself\u001b[0m\u001b[0;34m.\u001b[0m\u001b[0mforward\u001b[0m\u001b[0;34m(\u001b[0m\u001b[0;34m*\u001b[0m\u001b[0minput\u001b[0m\u001b[0;34m,\u001b[0m \u001b[0;34m**\u001b[0m\u001b[0mkwargs\u001b[0m\u001b[0;34m)\u001b[0m\u001b[0;34m\u001b[0m\u001b[0;34m\u001b[0m\u001b[0m\n\u001b[0m\u001b[1;32m    890\u001b[0m         for hook in itertools.chain(\n\u001b[1;32m    891\u001b[0m                 \u001b[0m_global_forward_hooks\u001b[0m\u001b[0;34m.\u001b[0m\u001b[0mvalues\u001b[0m\u001b[0;34m(\u001b[0m\u001b[0;34m)\u001b[0m\u001b[0;34m,\u001b[0m\u001b[0;34m\u001b[0m\u001b[0;34m\u001b[0m\u001b[0m\n",
      "\u001b[0;32m/usr/local/lib/python3.7/dist-packages/torch/nn/modules/normalization.py\u001b[0m in \u001b[0;36mforward\u001b[0;34m(self, input)\u001b[0m\n\u001b[1;32m    169\u001b[0m     \u001b[0;32mdef\u001b[0m \u001b[0mforward\u001b[0m\u001b[0;34m(\u001b[0m\u001b[0mself\u001b[0m\u001b[0;34m,\u001b[0m \u001b[0minput\u001b[0m\u001b[0;34m:\u001b[0m \u001b[0mTensor\u001b[0m\u001b[0;34m)\u001b[0m \u001b[0;34m->\u001b[0m \u001b[0mTensor\u001b[0m\u001b[0;34m:\u001b[0m\u001b[0;34m\u001b[0m\u001b[0;34m\u001b[0m\u001b[0m\n\u001b[1;32m    170\u001b[0m         return F.layer_norm(\n\u001b[0;32m--> 171\u001b[0;31m             input, self.normalized_shape, self.weight, self.bias, self.eps)\n\u001b[0m\u001b[1;32m    172\u001b[0m \u001b[0;34m\u001b[0m\u001b[0m\n\u001b[1;32m    173\u001b[0m     \u001b[0;32mdef\u001b[0m \u001b[0mextra_repr\u001b[0m\u001b[0;34m(\u001b[0m\u001b[0mself\u001b[0m\u001b[0;34m)\u001b[0m \u001b[0;34m->\u001b[0m \u001b[0mstr\u001b[0m\u001b[0;34m:\u001b[0m\u001b[0;34m\u001b[0m\u001b[0;34m\u001b[0m\u001b[0m\n",
      "\u001b[0;32m/usr/local/lib/python3.7/dist-packages/torch/nn/functional.py\u001b[0m in \u001b[0;36mlayer_norm\u001b[0;34m(input, normalized_shape, weight, bias, eps)\u001b[0m\n\u001b[1;32m   2203\u001b[0m             \u001b[0mlayer_norm\u001b[0m\u001b[0;34m,\u001b[0m \u001b[0;34m(\u001b[0m\u001b[0minput\u001b[0m\u001b[0;34m,\u001b[0m\u001b[0;34m)\u001b[0m\u001b[0;34m,\u001b[0m \u001b[0minput\u001b[0m\u001b[0;34m,\u001b[0m \u001b[0mnormalized_shape\u001b[0m\u001b[0;34m,\u001b[0m \u001b[0mweight\u001b[0m\u001b[0;34m=\u001b[0m\u001b[0mweight\u001b[0m\u001b[0;34m,\u001b[0m \u001b[0mbias\u001b[0m\u001b[0;34m=\u001b[0m\u001b[0mbias\u001b[0m\u001b[0;34m,\u001b[0m \u001b[0meps\u001b[0m\u001b[0;34m=\u001b[0m\u001b[0meps\u001b[0m\u001b[0;34m\u001b[0m\u001b[0;34m\u001b[0m\u001b[0m\n\u001b[1;32m   2204\u001b[0m         )\n\u001b[0;32m-> 2205\u001b[0;31m     \u001b[0;32mreturn\u001b[0m \u001b[0mtorch\u001b[0m\u001b[0;34m.\u001b[0m\u001b[0mlayer_norm\u001b[0m\u001b[0;34m(\u001b[0m\u001b[0minput\u001b[0m\u001b[0;34m,\u001b[0m \u001b[0mnormalized_shape\u001b[0m\u001b[0;34m,\u001b[0m \u001b[0mweight\u001b[0m\u001b[0;34m,\u001b[0m \u001b[0mbias\u001b[0m\u001b[0;34m,\u001b[0m \u001b[0meps\u001b[0m\u001b[0;34m,\u001b[0m \u001b[0mtorch\u001b[0m\u001b[0;34m.\u001b[0m\u001b[0mbackends\u001b[0m\u001b[0;34m.\u001b[0m\u001b[0mcudnn\u001b[0m\u001b[0;34m.\u001b[0m\u001b[0menabled\u001b[0m\u001b[0;34m)\u001b[0m\u001b[0;34m\u001b[0m\u001b[0;34m\u001b[0m\u001b[0m\n\u001b[0m\u001b[1;32m   2206\u001b[0m \u001b[0;34m\u001b[0m\u001b[0m\n\u001b[1;32m   2207\u001b[0m \u001b[0;34m\u001b[0m\u001b[0m\n",
      "\u001b[0;31mRuntimeError\u001b[0m: CUDA out of memory. Tried to allocate 96.00 MiB (GPU 0; 15.90 GiB total capacity; 14.88 GiB already allocated; 77.75 MiB free; 14.95 GiB reserved in total by PyTorch)"
     ]
    }
   ],
   "source": [
    "# Train the model (takes a while)\n",
    "\n",
    "_, history = model.train_model(df_train, eval_df=df_dev)"
   ]
  },
  {
   "cell_type": "code",
   "execution_count": null,
   "metadata": {
    "colab": {
     "base_uri": "https://localhost:8080/",
     "height": 281
    },
    "executionInfo": {
     "elapsed": 559,
     "status": "ok",
     "timestamp": 1618956062478,
     "user": {
      "displayName": "BoundingSlinky",
      "photoUrl": "https://lh3.googleusercontent.com/a-/AOh14Gg39-hR_TNqJ_59YNcAIkf6SEDK7ZIZhvMbODZQUg=s64",
      "userId": "06113191287291968679"
     },
     "user_tz": -120
    },
    "id": "vGMCHwdtDtDR",
    "outputId": "29f16c59-8f00-4f95-c356-85d127ceed00"
   },
   "outputs": [
    {
     "data": {
      "image/png": "[encoded data removed]",
      "text/plain": [
       "<Figure size 432x288 with 1 Axes>"
      ]
     },
     "metadata": {
      "needs_background": "light",
      "tags": []
     },
     "output_type": "display_data"
    }
   ],
   "source": [
    "# Training and evaluation loss curves\n",
    "\n",
    "train_loss = history['train_loss']\n",
    "eval_loss = history['eval_loss']\n",
    "plt.plot(train_loss, label='Training loss')\n",
    "plt.plot(eval_loss, label='Evaluation loss')\n",
    "plt.title('Training and evaluation loss curves')\n",
    "plt.legend()\n",
    "plt.show()"
   ]
  },
  {
   "cell_type": "code",
   "execution_count": null,
   "metadata": {
    "colab": {
     "base_uri": "https://localhost:8080/"
    },
    "executionInfo": {
     "elapsed": 493,
     "status": "ok",
     "timestamp": 1618956450092,
     "user": {
      "displayName": "BoundingSlinky",
      "photoUrl": "https://lh3.googleusercontent.com/a-/AOh14Gg39-hR_TNqJ_59YNcAIkf6SEDK7ZIZhvMbODZQUg=s64",
      "userId": "06113191287291968679"
     },
     "user_tz": -120
    },
    "id": "4kFMS_wrDuae",
    "outputId": "ff3b4fdd-930c-43f5-bbd5-f275a73419ca"
   },
   "outputs": [
    {
     "data": {
      "text/plain": [
       "{'eval_loss': [2.3903156691703242,\n",
       "  2.3443494603253794,\n",
       "  2.2810257345006084,\n",
       "  2.2391852321832078],\n",
       " 'global_step': [32, 64, 96, 128],\n",
       " 'mcc': [0.03781722625612027,\n",
       "  0.11496136599791024,\n",
       "  0.14105841031443256,\n",
       "  0.16067633980836407],\n",
       " 'train_loss': [2.362105369567871,\n",
       "  2.328800916671753,\n",
       "  2.2456142902374268,\n",
       "  2.294342041015625]}"
      ]
     },
     "execution_count": 38,
     "metadata": {
      "tags": []
     },
     "output_type": "execute_result"
    }
   ],
   "source": [
    "history"
   ]
  },
  {
   "cell_type": "markdown",
   "metadata": {
    "id": "5BlaevFODyqO"
   },
   "source": [
    "Predictions on test data"
   ]
  },
  {
   "cell_type": "code",
   "execution_count": null,
   "metadata": {
    "colab": {
     "base_uri": "https://localhost:8080/",
     "height": 48,
     "referenced_widgets": [
      "87131595fc5d41db8d6d473a20dd9878",
      "b00eb36f17eb418c858e32caec641dc3",
      "992cee1a977b416cb0338fa3ad3481b4",
      "e1dc93f74911437ea2bc04e747286b73",
      "6535e4ae87c24616b51cf74db89c1cc6",
      "c23e16c8841f4bfd819618b6b8fce2e7",
      "0ddc72d73f93492d8408fdb6b6e34c11",
      "6fa9832bd1314016b514d12388a1d0d3",
      "aa2081dc057a436bbeda4ee0ed4a9a4b",
      "dfe2ea0ab4b34a5c89b96c82836bcec5",
      "484db17977f946fa9720cda137e93f4e"
     ]
    },
    "executionInfo": {
     "elapsed": 10067,
     "status": "ok",
     "timestamp": 1618954470114,
     "user": {
      "displayName": "BoundingSlinky",
      "photoUrl": "https://lh3.googleusercontent.com/a-/AOh14Gg39-hR_TNqJ_59YNcAIkf6SEDK7ZIZhvMbODZQUg=s64",
      "userId": "06113191287291968679"
     },
     "user_tz": -120
    },
    "id": "w0PVxWUHDyVf",
    "outputId": "316caa86-51d2-407a-877c-4458e1fe25cd"
   },
   "outputs": [
    {
     "data": {
      "application/vnd.jupyter.widget-view+json": {
       "model_id": "87131595fc5d41db8d6d473a20dd9878",
       "version_major": 2,
       "version_minor": 0
      },
      "text/plain": [
       "  0%|          | 0/138 [00:00<?, ?it/s]"
      ]
     },
     "metadata": {
      "tags": []
     },
     "output_type": "display_data"
    }
   ],
   "source": [
    "# Make predictions with the model \n",
    "\n",
    "predicted, probabilities = model.predict(df_dev['text'].to_list())\n",
    "df_dev['predicted'] = predicted"
   ]
  },
  {
   "cell_type": "code",
   "execution_count": null,
   "metadata": {
    "colab": {
     "base_uri": "https://localhost:8080/",
     "height": 137
    },
    "executionInfo": {
     "elapsed": 438,
     "status": "ok",
     "timestamp": 1618954480692,
     "user": {
      "displayName": "BoundingSlinky",
      "photoUrl": "https://lh3.googleusercontent.com/a-/AOh14Gg39-hR_TNqJ_59YNcAIkf6SEDK7ZIZhvMbODZQUg=s64",
      "userId": "06113191287291968679"
     },
     "user_tz": -120
    },
    "id": "56pQi-fnD5m4",
    "outputId": "b22983eb-6b42-4012-ad78-2e066eae40cd"
   },
   "outputs": [
    {
     "data": {
      "text/html": [
       "<div>\n",
       "<style scoped>\n",
       "    .dataframe tbody tr th:only-of-type {\n",
       "        vertical-align: middle;\n",
       "    }\n",
       "\n",
       "    .dataframe tbody tr th {\n",
       "        vertical-align: top;\n",
       "    }\n",
       "\n",
       "    .dataframe thead th {\n",
       "        text-align: right;\n",
       "    }\n",
       "</style>\n",
       "<table border=\"1\" class=\"dataframe\">\n",
       "  <thead>\n",
       "    <tr style=\"text-align: right;\">\n",
       "      <th></th>\n",
       "      <th>text</th>\n",
       "      <th>Language</th>\n",
       "      <th>predicted</th>\n",
       "    </tr>\n",
       "  </thead>\n",
       "  <tbody>\n",
       "    <tr>\n",
       "      <th>4293</th>\n",
       "      <td>\\tSpecializing in one specific subject is bett...</td>\n",
       "      <td>TUR</td>\n",
       "      <td>TEL</td>\n",
       "    </tr>\n",
       "    <tr>\n",
       "      <th>5742</th>\n",
       "      <td>I agree with the statement. In my opinion it i...</td>\n",
       "      <td>DEU</td>\n",
       "      <td>ITA</td>\n",
       "    </tr>\n",
       "    <tr>\n",
       "      <th>5630</th>\n",
       "      <td>as far as i concerned i agree with the stateme...</td>\n",
       "      <td>TEL</td>\n",
       "      <td>TEL</td>\n",
       "    </tr>\n",
       "  </tbody>\n",
       "</table>\n",
       "</div>"
      ],
      "text/plain": [
       "                                                   text Language predicted\n",
       "4293  \\tSpecializing in one specific subject is bett...      TUR       TEL\n",
       "5742  I agree with the statement. In my opinion it i...      DEU       ITA\n",
       "5630  as far as i concerned i agree with the stateme...      TEL       TEL"
      ]
     },
     "execution_count": 26,
     "metadata": {
      "tags": []
     },
     "output_type": "execute_result"
    }
   ],
   "source": [
    "df_dev.head(3)"
   ]
  },
  {
   "cell_type": "code",
   "execution_count": null,
   "metadata": {
    "colab": {
     "base_uri": "https://localhost:8080/"
    },
    "executionInfo": {
     "elapsed": 448,
     "status": "ok",
     "timestamp": 1618954526018,
     "user": {
      "displayName": "BoundingSlinky",
      "photoUrl": "https://lh3.googleusercontent.com/a-/AOh14Gg39-hR_TNqJ_59YNcAIkf6SEDK7ZIZhvMbODZQUg=s64",
      "userId": "06113191287291968679"
     },
     "user_tz": -120
    },
    "id": "Jyzgf_QYEBG7",
    "outputId": "80aa1a0b-0fa8-4188-c78f-281dde1aa597"
   },
   "outputs": [
    {
     "name": "stdout",
     "output_type": "stream",
     "text": [
      "              precision    recall  f1-score   support\n",
      "\n",
      "         ARA       0.30      0.23      0.26        93\n",
      "         DEU       0.17      0.03      0.05       102\n",
      "         FRA       0.13      0.14      0.14        99\n",
      "         HIN       0.29      0.09      0.14       102\n",
      "         ITA       0.18      0.65      0.28        89\n",
      "         JPN       0.28      0.32      0.30        98\n",
      "         KOR       0.23      0.30      0.26       103\n",
      "         SPA       0.13      0.02      0.04        86\n",
      "         TEL       0.29      0.78      0.42       104\n",
      "         TUR       0.50      0.02      0.03       118\n",
      "         ZHO       0.00      0.00      0.00       106\n",
      "\n",
      "    accuracy                           0.23      1100\n",
      "   macro avg       0.23      0.23      0.17      1100\n",
      "weighted avg       0.23      0.23      0.17      1100\n",
      "\n"
     ]
    }
   ],
   "source": [
    "# Result (note: your result can be different due to randomness in operations)\n",
    "\n",
    "print(classification_report(df_dev['Language'], df_dev['predicted']))"
   ]
  },
  {
   "cell_type": "code",
   "execution_count": null,
   "metadata": {
    "colab": {
     "base_uri": "https://localhost:8080/",
     "height": 281
    },
    "executionInfo": {
     "elapsed": 1235,
     "status": "ok",
     "timestamp": 1618954592601,
     "user": {
      "displayName": "BoundingSlinky",
      "photoUrl": "https://lh3.googleusercontent.com/a-/AOh14Gg39-hR_TNqJ_59YNcAIkf6SEDK7ZIZhvMbODZQUg=s64",
      "userId": "06113191287291968679"
     },
     "user_tz": -120
    },
    "id": "iSiaQC5HECVh",
    "outputId": "a17241b7-8426-4bb4-e25c-2727f757e309"
   },
   "outputs": [
    {
     "data": {
      "image/png": "[encoded data removed]",
      "text/plain": [
       "<Figure size 432x288 with 2 Axes>"
      ]
     },
     "metadata": {
      "needs_background": "light",
      "tags": []
     },
     "output_type": "display_data"
    }
   ],
   "source": [
    "# Plot the confusion matrix\n",
    "\n",
    "confusion_matrix = pd.crosstab(df_dev['Language'], df_dev['predicted'], rownames=['Language'], colnames=['Predicted']) \n",
    "sn.heatmap(confusion_matrix, annot=True, cmap='Blues', fmt='g')\n",
    "plt.show()"
   ]
  }
 ],
 "metadata": {
  "accelerator": "GPU",
  "colab": {
   "authorship_tag": "ABX9TyNDFKa5Y9bkvP6bYYIbDY3k",
   "name": "DeepLearning.ipynb",
   "provenance": [],
   "toc_visible": true
  },
  "kernelspec": {
   "display_name": "Python 3",
   "language": "python",
   "name": "python3"
  },
  "language_info": {
   "codemirror_mode": {
    "name": "ipython",
    "version": 3
   },
   "file_extension": ".py",
   "mimetype": "text/x-python",
   "name": "python",
   "nbconvert_exporter": "python",
   "pygments_lexer": "ipython3",
   "version": "3.8.5"
  },
  "widgets": {
   "application/vnd.jupyter.widget-state+json": {
    "00d5bba4a885438e84a526f92e9a80df": {
     "model_module": "@jupyter-widgets/base",
     "model_name": "LayoutModel",
     "state": {
      "_model_module": "@jupyter-widgets/base",
      "_model_module_version": "1.2.0",
      "_model_name": "LayoutModel",
      "_view_count": null,
      "_view_module": "@jupyter-widgets/base",
      "_view_module_version": "1.2.0",
      "_view_name": "LayoutView",
      "align_content": null,
      "align_items": null,
      "align_self": null,
      "border": null,
      "bottom": null,
      "display": null,
      "flex": null,
      "flex_flow": null,
      "grid_area": null,
      "grid_auto_columns": null,
      "grid_auto_flow": null,
      "grid_auto_rows": null,
      "grid_column": null,
      "grid_gap": null,
      "grid_row": null,
      "grid_template_areas": null,
      "grid_template_columns": null,
      "grid_template_rows": null,
      "height": null,
      "justify_content": null,
      "justify_items": null,
      "left": null,
      "margin": null,
      "max_height": null,
      "max_width": null,
      "min_height": null,
      "min_width": null,
      "object_fit": null,
      "object_position": null,
      "order": null,
      "overflow": null,
      "overflow_x": null,
      "overflow_y": null,
      "padding": null,
      "right": null,
      "top": null,
      "visibility": null,
      "width": null
     }
    },
    "028c45b30f81427a806cb20a24b6b700": {
     "model_module": "@jupyter-widgets/base",
     "model_name": "LayoutModel",
     "state": {
      "_model_module": "@jupyter-widgets/base",
      "_model_module_version": "1.2.0",
      "_model_name": "LayoutModel",
      "_view_count": null,
      "_view_module": "@jupyter-widgets/base",
      "_view_module_version": "1.2.0",
      "_view_name": "LayoutView",
      "align_content": null,
      "align_items": null,
      "align_self": null,
      "border": null,
      "bottom": null,
      "display": null,
      "flex": null,
      "flex_flow": null,
      "grid_area": null,
      "grid_auto_columns": null,
      "grid_auto_flow": null,
      "grid_auto_rows": null,
      "grid_column": null,
      "grid_gap": null,
      "grid_row": null,
      "grid_template_areas": null,
      "grid_template_columns": null,
      "grid_template_rows": null,
      "height": null,
      "justify_content": null,
      "justify_items": null,
      "left": null,
      "margin": null,
      "max_height": null,
      "max_width": null,
      "min_height": null,
      "min_width": null,
      "object_fit": null,
      "object_position": null,
      "order": null,
      "overflow": null,
      "overflow_x": null,
      "overflow_y": null,
      "padding": null,
      "right": null,
      "top": null,
      "visibility": null,
      "width": null
     }
    },
    "0c77e781ff4840ad8d7e74e93bb7dc4c": {
     "model_module": "@jupyter-widgets/controls",
     "model_name": "ProgressStyleModel",
     "state": {
      "_model_module": "@jupyter-widgets/controls",
      "_model_module_version": "1.5.0",
      "_model_name": "ProgressStyleModel",
      "_view_count": null,
      "_view_module": "@jupyter-widgets/base",
      "_view_module_version": "1.2.0",
      "_view_name": "StyleView",
      "bar_color": null,
      "description_width": ""
     }
    },
    "1350703d8f61423490f43d91b71ca9ea": {
     "model_module": "@jupyter-widgets/controls",
     "model_name": "DescriptionStyleModel",
     "state": {
      "_model_module": "@jupyter-widgets/controls",
      "_model_module_version": "1.5.0",
      "_model_name": "DescriptionStyleModel",
      "_view_count": null,
      "_view_module": "@jupyter-widgets/base",
      "_view_module_version": "1.2.0",
      "_view_name": "StyleView",
      "description_width": ""
     }
    },
    "164a4ad593e141dc83fed2bc5e876483": {
     "model_module": "@jupyter-widgets/controls",
     "model_name": "DescriptionStyleModel",
     "state": {
      "_model_module": "@jupyter-widgets/controls",
      "_model_module_version": "1.5.0",
      "_model_name": "DescriptionStyleModel",
      "_view_count": null,
      "_view_module": "@jupyter-widgets/base",
      "_view_module_version": "1.2.0",
      "_view_name": "StyleView",
      "description_width": ""
     }
    },
    "17f8bb9ad149431abf8e8cb3170ee9d1": {
     "model_module": "@jupyter-widgets/base",
     "model_name": "LayoutModel",
     "state": {
      "_model_module": "@jupyter-widgets/base",
      "_model_module_version": "1.2.0",
      "_model_name": "LayoutModel",
      "_view_count": null,
      "_view_module": "@jupyter-widgets/base",
      "_view_module_version": "1.2.0",
      "_view_name": "LayoutView",
      "align_content": null,
      "align_items": null,
      "align_self": null,
      "border": null,
      "bottom": null,
      "display": null,
      "flex": null,
      "flex_flow": null,
      "grid_area": null,
      "grid_auto_columns": null,
      "grid_auto_flow": null,
      "grid_auto_rows": null,
      "grid_column": null,
      "grid_gap": null,
      "grid_row": null,
      "grid_template_areas": null,
      "grid_template_columns": null,
      "grid_template_rows": null,
      "height": null,
      "justify_content": null,
      "justify_items": null,
      "left": null,
      "margin": null,
      "max_height": null,
      "max_width": null,
      "min_height": null,
      "min_width": null,
      "object_fit": null,
      "object_position": null,
      "order": null,
      "overflow": null,
      "overflow_x": null,
      "overflow_y": null,
      "padding": null,
      "right": null,
      "top": null,
      "visibility": null,
      "width": null
     }
    },
    "1e586adb44b6442ba1f96eec33e48fe0": {
     "model_module": "@jupyter-widgets/base",
     "model_name": "LayoutModel",
     "state": {
      "_model_module": "@jupyter-widgets/base",
      "_model_module_version": "1.2.0",
      "_model_name": "LayoutModel",
      "_view_count": null,
      "_view_module": "@jupyter-widgets/base",
      "_view_module_version": "1.2.0",
      "_view_name": "LayoutView",
      "align_content": null,
      "align_items": null,
      "align_self": null,
      "border": null,
      "bottom": null,
      "display": null,
      "flex": null,
      "flex_flow": null,
      "grid_area": null,
      "grid_auto_columns": null,
      "grid_auto_flow": null,
      "grid_auto_rows": null,
      "grid_column": null,
      "grid_gap": null,
      "grid_row": null,
      "grid_template_areas": null,
      "grid_template_columns": null,
      "grid_template_rows": null,
      "height": null,
      "justify_content": null,
      "justify_items": null,
      "left": null,
      "margin": null,
      "max_height": null,
      "max_width": null,
      "min_height": null,
      "min_width": null,
      "object_fit": null,
      "object_position": null,
      "order": null,
      "overflow": null,
      "overflow_x": null,
      "overflow_y": null,
      "padding": null,
      "right": null,
      "top": null,
      "visibility": null,
      "width": null
     }
    },
    "1f86b55a56bd4383bdc1320ad254be1f": {
     "model_module": "@jupyter-widgets/controls",
     "model_name": "DescriptionStyleModel",
     "state": {
      "_model_module": "@jupyter-widgets/controls",
      "_model_module_version": "1.5.0",
      "_model_name": "DescriptionStyleModel",
      "_view_count": null,
      "_view_module": "@jupyter-widgets/base",
      "_view_module_version": "1.2.0",
      "_view_name": "StyleView",
      "description_width": ""
     }
    },
    "3344314e60fb449ab787f80e3f77dd4a": {
     "model_module": "@jupyter-widgets/controls",
     "model_name": "DescriptionStyleModel",
     "state": {
      "_model_module": "@jupyter-widgets/controls",
      "_model_module_version": "1.5.0",
      "_model_name": "DescriptionStyleModel",
      "_view_count": null,
      "_view_module": "@jupyter-widgets/base",
      "_view_module_version": "1.2.0",
      "_view_name": "StyleView",
      "description_width": ""
     }
    },
    "46151f4904fc42f89ef0ed1da3ebbc4f": {
     "model_module": "@jupyter-widgets/base",
     "model_name": "LayoutModel",
     "state": {
      "_model_module": "@jupyter-widgets/base",
      "_model_module_version": "1.2.0",
      "_model_name": "LayoutModel",
      "_view_count": null,
      "_view_module": "@jupyter-widgets/base",
      "_view_module_version": "1.2.0",
      "_view_name": "LayoutView",
      "align_content": null,
      "align_items": null,
      "align_self": null,
      "border": null,
      "bottom": null,
      "display": null,
      "flex": null,
      "flex_flow": null,
      "grid_area": null,
      "grid_auto_columns": null,
      "grid_auto_flow": null,
      "grid_auto_rows": null,
      "grid_column": null,
      "grid_gap": null,
      "grid_row": null,
      "grid_template_areas": null,
      "grid_template_columns": null,
      "grid_template_rows": null,
      "height": null,
      "justify_content": null,
      "justify_items": null,
      "left": null,
      "margin": null,
      "max_height": null,
      "max_width": null,
      "min_height": null,
      "min_width": null,
      "object_fit": null,
      "object_position": null,
      "order": null,
      "overflow": null,
      "overflow_x": null,
      "overflow_y": null,
      "padding": null,
      "right": null,
      "top": null,
      "visibility": null,
      "width": null
     }
    },
    "4d79aa7e14b545ea8166f167537d7996": {
     "model_module": "@jupyter-widgets/controls",
     "model_name": "DescriptionStyleModel",
     "state": {
      "_model_module": "@jupyter-widgets/controls",
      "_model_module_version": "1.5.0",
      "_model_name": "DescriptionStyleModel",
      "_view_count": null,
      "_view_module": "@jupyter-widgets/base",
      "_view_module_version": "1.2.0",
      "_view_name": "StyleView",
      "description_width": ""
     }
    },
    "50448800b49c418c9f757fe48089d09d": {
     "model_module": "@jupyter-widgets/controls",
     "model_name": "HTMLModel",
     "state": {
      "_dom_classes": [],
      "_model_module": "@jupyter-widgets/controls",
      "_model_module_version": "1.5.0",
      "_model_name": "HTMLModel",
      "_view_count": null,
      "_view_module": "@jupyter-widgets/controls",
      "_view_module_version": "1.5.0",
      "_view_name": "HTMLView",
      "description": "",
      "description_tooltip": null,
      "layout": "IPY_MODEL_17f8bb9ad149431abf8e8cb3170ee9d1",
      "placeholder": "​",
      "style": "IPY_MODEL_3344314e60fb449ab787f80e3f77dd4a",
      "value": " 0/1 [00:00&lt;?, ?it/s]"
     }
    },
    "53ff830111f043a2bfad3eba3c0c7a1c": {
     "model_module": "@jupyter-widgets/base",
     "model_name": "LayoutModel",
     "state": {
      "_model_module": "@jupyter-widgets/base",
      "_model_module_version": "1.2.0",
      "_model_name": "LayoutModel",
      "_view_count": null,
      "_view_module": "@jupyter-widgets/base",
      "_view_module_version": "1.2.0",
      "_view_name": "LayoutView",
      "align_content": null,
      "align_items": null,
      "align_self": null,
      "border": null,
      "bottom": null,
      "display": null,
      "flex": null,
      "flex_flow": null,
      "grid_area": null,
      "grid_auto_columns": null,
      "grid_auto_flow": null,
      "grid_auto_rows": null,
      "grid_column": null,
      "grid_gap": null,
      "grid_row": null,
      "grid_template_areas": null,
      "grid_template_columns": null,
      "grid_template_rows": null,
      "height": null,
      "justify_content": null,
      "justify_items": null,
      "left": null,
      "margin": null,
      "max_height": null,
      "max_width": null,
      "min_height": null,
      "min_width": null,
      "object_fit": null,
      "object_position": null,
      "order": null,
      "overflow": null,
      "overflow_x": null,
      "overflow_y": null,
      "padding": null,
      "right": null,
      "top": null,
      "visibility": null,
      "width": null
     }
    },
    "560de9ba94dc45018732027e06ad0fd3": {
     "model_module": "@jupyter-widgets/controls",
     "model_name": "HTMLModel",
     "state": {
      "_dom_classes": [],
      "_model_module": "@jupyter-widgets/controls",
      "_model_module_version": "1.5.0",
      "_model_name": "HTMLModel",
      "_view_count": null,
      "_view_module": "@jupyter-widgets/controls",
      "_view_module_version": "1.5.0",
      "_view_name": "HTMLView",
      "description": "",
      "description_tooltip": null,
      "layout": "IPY_MODEL_7eba7c0b39194ea3abd90fea055d22aa",
      "placeholder": "​",
      "style": "IPY_MODEL_6be9f4155dd840f39356b9a535aa18c4",
      "value": "100%"
     }
    },
    "6733587703f24bf3b16cc3f90137e476": {
     "model_module": "@jupyter-widgets/controls",
     "model_name": "HTMLModel",
     "state": {
      "_dom_classes": [],
      "_model_module": "@jupyter-widgets/controls",
      "_model_module_version": "1.5.0",
      "_model_name": "HTMLModel",
      "_view_count": null,
      "_view_module": "@jupyter-widgets/controls",
      "_view_module_version": "1.5.0",
      "_view_name": "HTMLView",
      "description": "",
      "description_tooltip": null,
      "layout": "IPY_MODEL_53ff830111f043a2bfad3eba3c0c7a1c",
      "placeholder": "​",
      "style": "IPY_MODEL_1350703d8f61423490f43d91b71ca9ea",
      "value": " 0/78 [00:00&lt;?, ?it/s]"
     }
    },
    "6ab91556d60d410ca7a24f169d0291e2": {
     "model_module": "@jupyter-widgets/base",
     "model_name": "LayoutModel",
     "state": {
      "_model_module": "@jupyter-widgets/base",
      "_model_module_version": "1.2.0",
      "_model_name": "LayoutModel",
      "_view_count": null,
      "_view_module": "@jupyter-widgets/base",
      "_view_module_version": "1.2.0",
      "_view_name": "LayoutView",
      "align_content": null,
      "align_items": null,
      "align_self": null,
      "border": null,
      "bottom": null,
      "display": null,
      "flex": null,
      "flex_flow": null,
      "grid_area": null,
      "grid_auto_columns": null,
      "grid_auto_flow": null,
      "grid_auto_rows": null,
      "grid_column": null,
      "grid_gap": null,
      "grid_row": null,
      "grid_template_areas": null,
      "grid_template_columns": null,
      "grid_template_rows": null,
      "height": null,
      "justify_content": null,
      "justify_items": null,
      "left": null,
      "margin": null,
      "max_height": null,
      "max_width": null,
      "min_height": null,
      "min_width": null,
      "object_fit": null,
      "object_position": null,
      "order": null,
      "overflow": null,
      "overflow_x": null,
      "overflow_y": null,
      "padding": null,
      "right": null,
      "top": null,
      "visibility": null,
      "width": null
     }
    },
    "6b2b7e0f9aa84f89ae88f509845c2def": {
     "model_module": "@jupyter-widgets/controls",
     "model_name": "FloatProgressModel",
     "state": {
      "_dom_classes": [],
      "_model_module": "@jupyter-widgets/controls",
      "_model_module_version": "1.5.0",
      "_model_name": "FloatProgressModel",
      "_view_count": null,
      "_view_module": "@jupyter-widgets/controls",
      "_view_module_version": "1.5.0",
      "_view_name": "ProgressView",
      "bar_style": "danger",
      "description": "",
      "description_tooltip": null,
      "layout": "IPY_MODEL_9498d909e5064bc1a90591786722191b",
      "max": 78,
      "min": 0,
      "orientation": "horizontal",
      "style": "IPY_MODEL_933b202f7bd146adb14130654445b2c8",
      "value": 0
     }
    },
    "6be9f4155dd840f39356b9a535aa18c4": {
     "model_module": "@jupyter-widgets/controls",
     "model_name": "DescriptionStyleModel",
     "state": {
      "_model_module": "@jupyter-widgets/controls",
      "_model_module_version": "1.5.0",
      "_model_name": "DescriptionStyleModel",
      "_view_count": null,
      "_view_module": "@jupyter-widgets/base",
      "_view_module_version": "1.2.0",
      "_view_name": "StyleView",
      "description_width": ""
     }
    },
    "7786d90a579a4bb68326251b31b917b6": {
     "model_module": "@jupyter-widgets/controls",
     "model_name": "FloatProgressModel",
     "state": {
      "_dom_classes": [],
      "_model_module": "@jupyter-widgets/controls",
      "_model_module_version": "1.5.0",
      "_model_name": "FloatProgressModel",
      "_view_count": null,
      "_view_module": "@jupyter-widgets/controls",
      "_view_module_version": "1.5.0",
      "_view_name": "ProgressView",
      "bar_style": "success",
      "description": "",
      "description_tooltip": null,
      "layout": "IPY_MODEL_bb2edf83bb4c440b83cc4d47b1b2b057",
      "max": 2,
      "min": 0,
      "orientation": "horizontal",
      "style": "IPY_MODEL_0c77e781ff4840ad8d7e74e93bb7dc4c",
      "value": 2
     }
    },
    "7eba7c0b39194ea3abd90fea055d22aa": {
     "model_module": "@jupyter-widgets/base",
     "model_name": "LayoutModel",
     "state": {
      "_model_module": "@jupyter-widgets/base",
      "_model_module_version": "1.2.0",
      "_model_name": "LayoutModel",
      "_view_count": null,
      "_view_module": "@jupyter-widgets/base",
      "_view_module_version": "1.2.0",
      "_view_name": "LayoutView",
      "align_content": null,
      "align_items": null,
      "align_self": null,
      "border": null,
      "bottom": null,
      "display": null,
      "flex": null,
      "flex_flow": null,
      "grid_area": null,
      "grid_auto_columns": null,
      "grid_auto_flow": null,
      "grid_auto_rows": null,
      "grid_column": null,
      "grid_gap": null,
      "grid_row": null,
      "grid_template_areas": null,
      "grid_template_columns": null,
      "grid_template_rows": null,
      "height": null,
      "justify_content": null,
      "justify_items": null,
      "left": null,
      "margin": null,
      "max_height": null,
      "max_width": null,
      "min_height": null,
      "min_width": null,
      "object_fit": null,
      "object_position": null,
      "order": null,
      "overflow": null,
      "overflow_x": null,
      "overflow_y": null,
      "padding": null,
      "right": null,
      "top": null,
      "visibility": null,
      "width": null
     }
    },
    "933b202f7bd146adb14130654445b2c8": {
     "model_module": "@jupyter-widgets/controls",
     "model_name": "ProgressStyleModel",
     "state": {
      "_model_module": "@jupyter-widgets/controls",
      "_model_module_version": "1.5.0",
      "_model_name": "ProgressStyleModel",
      "_view_count": null,
      "_view_module": "@jupyter-widgets/base",
      "_view_module_version": "1.2.0",
      "_view_name": "StyleView",
      "bar_color": null,
      "description_width": ""
     }
    },
    "9498d909e5064bc1a90591786722191b": {
     "model_module": "@jupyter-widgets/base",
     "model_name": "LayoutModel",
     "state": {
      "_model_module": "@jupyter-widgets/base",
      "_model_module_version": "1.2.0",
      "_model_name": "LayoutModel",
      "_view_count": null,
      "_view_module": "@jupyter-widgets/base",
      "_view_module_version": "1.2.0",
      "_view_name": "LayoutView",
      "align_content": null,
      "align_items": null,
      "align_self": null,
      "border": null,
      "bottom": null,
      "display": null,
      "flex": null,
      "flex_flow": null,
      "grid_area": null,
      "grid_auto_columns": null,
      "grid_auto_flow": null,
      "grid_auto_rows": null,
      "grid_column": null,
      "grid_gap": null,
      "grid_row": null,
      "grid_template_areas": null,
      "grid_template_columns": null,
      "grid_template_rows": null,
      "height": null,
      "justify_content": null,
      "justify_items": null,
      "left": null,
      "margin": null,
      "max_height": null,
      "max_width": null,
      "min_height": null,
      "min_width": null,
      "object_fit": null,
      "object_position": null,
      "order": null,
      "overflow": null,
      "overflow_x": null,
      "overflow_y": null,
      "padding": null,
      "right": null,
      "top": null,
      "visibility": null,
      "width": null
     }
    },
    "98fc274b766845e8931ea5250479d695": {
     "model_module": "@jupyter-widgets/controls",
     "model_name": "HBoxModel",
     "state": {
      "_dom_classes": [],
      "_model_module": "@jupyter-widgets/controls",
      "_model_module_version": "1.5.0",
      "_model_name": "HBoxModel",
      "_view_count": null,
      "_view_module": "@jupyter-widgets/controls",
      "_view_module_version": "1.5.0",
      "_view_name": "HBoxView",
      "box_style": "",
      "children": [
       "IPY_MODEL_9cb4b6b520944293a7978283dd0bd3cf",
       "IPY_MODEL_bdedc137ebce412b9fadd52192174aa4",
       "IPY_MODEL_50448800b49c418c9f757fe48089d09d"
      ],
      "layout": "IPY_MODEL_46151f4904fc42f89ef0ed1da3ebbc4f"
     }
    },
    "9cb4b6b520944293a7978283dd0bd3cf": {
     "model_module": "@jupyter-widgets/controls",
     "model_name": "HTMLModel",
     "state": {
      "_dom_classes": [],
      "_model_module": "@jupyter-widgets/controls",
      "_model_module_version": "1.5.0",
      "_model_name": "HTMLModel",
      "_view_count": null,
      "_view_module": "@jupyter-widgets/controls",
      "_view_module_version": "1.5.0",
      "_view_name": "HTMLView",
      "description": "",
      "description_tooltip": null,
      "layout": "IPY_MODEL_9ef0bf3ea0694093a9a173a7969cbaa5",
      "placeholder": "​",
      "style": "IPY_MODEL_4d79aa7e14b545ea8166f167537d7996",
      "value": "Epoch 1 of 1:   0%"
     }
    },
    "9ef0bf3ea0694093a9a173a7969cbaa5": {
     "model_module": "@jupyter-widgets/base",
     "model_name": "LayoutModel",
     "state": {
      "_model_module": "@jupyter-widgets/base",
      "_model_module_version": "1.2.0",
      "_model_name": "LayoutModel",
      "_view_count": null,
      "_view_module": "@jupyter-widgets/base",
      "_view_module_version": "1.2.0",
      "_view_name": "LayoutView",
      "align_content": null,
      "align_items": null,
      "align_self": null,
      "border": null,
      "bottom": null,
      "display": null,
      "flex": null,
      "flex_flow": null,
      "grid_area": null,
      "grid_auto_columns": null,
      "grid_auto_flow": null,
      "grid_auto_rows": null,
      "grid_column": null,
      "grid_gap": null,
      "grid_row": null,
      "grid_template_areas": null,
      "grid_template_columns": null,
      "grid_template_rows": null,
      "height": null,
      "justify_content": null,
      "justify_items": null,
      "left": null,
      "margin": null,
      "max_height": null,
      "max_width": null,
      "min_height": null,
      "min_width": null,
      "object_fit": null,
      "object_position": null,
      "order": null,
      "overflow": null,
      "overflow_x": null,
      "overflow_y": null,
      "padding": null,
      "right": null,
      "top": null,
      "visibility": null,
      "width": null
     }
    },
    "bb2edf83bb4c440b83cc4d47b1b2b057": {
     "model_module": "@jupyter-widgets/base",
     "model_name": "LayoutModel",
     "state": {
      "_model_module": "@jupyter-widgets/base",
      "_model_module_version": "1.2.0",
      "_model_name": "LayoutModel",
      "_view_count": null,
      "_view_module": "@jupyter-widgets/base",
      "_view_module_version": "1.2.0",
      "_view_name": "LayoutView",
      "align_content": null,
      "align_items": null,
      "align_self": null,
      "border": null,
      "bottom": null,
      "display": null,
      "flex": null,
      "flex_flow": null,
      "grid_area": null,
      "grid_auto_columns": null,
      "grid_auto_flow": null,
      "grid_auto_rows": null,
      "grid_column": null,
      "grid_gap": null,
      "grid_row": null,
      "grid_template_areas": null,
      "grid_template_columns": null,
      "grid_template_rows": null,
      "height": null,
      "justify_content": null,
      "justify_items": null,
      "left": null,
      "margin": null,
      "max_height": null,
      "max_width": null,
      "min_height": null,
      "min_width": null,
      "object_fit": null,
      "object_position": null,
      "order": null,
      "overflow": null,
      "overflow_x": null,
      "overflow_y": null,
      "padding": null,
      "right": null,
      "top": null,
      "visibility": null,
      "width": null
     }
    },
    "bdedc137ebce412b9fadd52192174aa4": {
     "model_module": "@jupyter-widgets/controls",
     "model_name": "FloatProgressModel",
     "state": {
      "_dom_classes": [],
      "_model_module": "@jupyter-widgets/controls",
      "_model_module_version": "1.5.0",
      "_model_name": "FloatProgressModel",
      "_view_count": null,
      "_view_module": "@jupyter-widgets/controls",
      "_view_module_version": "1.5.0",
      "_view_name": "ProgressView",
      "bar_style": "danger",
      "description": "",
      "description_tooltip": null,
      "layout": "IPY_MODEL_00d5bba4a885438e84a526f92e9a80df",
      "max": 1,
      "min": 0,
      "orientation": "horizontal",
      "style": "IPY_MODEL_e8af412ed3b84539896e2288f8e08dfd",
      "value": 0
     }
    },
    "cd49c1cc2bd84bae9a12e0a1ee8c3768": {
     "model_module": "@jupyter-widgets/controls",
     "model_name": "HBoxModel",
     "state": {
      "_dom_classes": [],
      "_model_module": "@jupyter-widgets/controls",
      "_model_module_version": "1.5.0",
      "_model_name": "HBoxModel",
      "_view_count": null,
      "_view_module": "@jupyter-widgets/controls",
      "_view_module_version": "1.5.0",
      "_view_name": "HBoxView",
      "box_style": "",
      "children": [
       "IPY_MODEL_560de9ba94dc45018732027e06ad0fd3",
       "IPY_MODEL_7786d90a579a4bb68326251b31b917b6",
       "IPY_MODEL_ed808c69a4e6415a9e2807b39aa89c35"
      ],
      "layout": "IPY_MODEL_028c45b30f81427a806cb20a24b6b700"
     }
    },
    "dd1687b32fc34ee083586169e4e06b93": {
     "model_module": "@jupyter-widgets/controls",
     "model_name": "HTMLModel",
     "state": {
      "_dom_classes": [],
      "_model_module": "@jupyter-widgets/controls",
      "_model_module_version": "1.5.0",
      "_model_name": "HTMLModel",
      "_view_count": null,
      "_view_module": "@jupyter-widgets/controls",
      "_view_module_version": "1.5.0",
      "_view_name": "HTMLView",
      "description": "",
      "description_tooltip": null,
      "layout": "IPY_MODEL_e828a43386e44579954ff366a6e95c62",
      "placeholder": "​",
      "style": "IPY_MODEL_1f86b55a56bd4383bdc1320ad254be1f",
      "value": "Running Epoch 0 of 1:   0%"
     }
    },
    "e390fabaa6ce49bfa9b27c1a81ad0948": {
     "model_module": "@jupyter-widgets/controls",
     "model_name": "HBoxModel",
     "state": {
      "_dom_classes": [],
      "_model_module": "@jupyter-widgets/controls",
      "_model_module_version": "1.5.0",
      "_model_name": "HBoxModel",
      "_view_count": null,
      "_view_module": "@jupyter-widgets/controls",
      "_view_module_version": "1.5.0",
      "_view_name": "HBoxView",
      "box_style": "",
      "children": [
       "IPY_MODEL_dd1687b32fc34ee083586169e4e06b93",
       "IPY_MODEL_6b2b7e0f9aa84f89ae88f509845c2def",
       "IPY_MODEL_6733587703f24bf3b16cc3f90137e476"
      ],
      "layout": "IPY_MODEL_6ab91556d60d410ca7a24f169d0291e2"
     }
    },
    "e828a43386e44579954ff366a6e95c62": {
     "model_module": "@jupyter-widgets/base",
     "model_name": "LayoutModel",
     "state": {
      "_model_module": "@jupyter-widgets/base",
      "_model_module_version": "1.2.0",
      "_model_name": "LayoutModel",
      "_view_count": null,
      "_view_module": "@jupyter-widgets/base",
      "_view_module_version": "1.2.0",
      "_view_name": "LayoutView",
      "align_content": null,
      "align_items": null,
      "align_self": null,
      "border": null,
      "bottom": null,
      "display": null,
      "flex": null,
      "flex_flow": null,
      "grid_area": null,
      "grid_auto_columns": null,
      "grid_auto_flow": null,
      "grid_auto_rows": null,
      "grid_column": null,
      "grid_gap": null,
      "grid_row": null,
      "grid_template_areas": null,
      "grid_template_columns": null,
      "grid_template_rows": null,
      "height": null,
      "justify_content": null,
      "justify_items": null,
      "left": null,
      "margin": null,
      "max_height": null,
      "max_width": null,
      "min_height": null,
      "min_width": null,
      "object_fit": null,
      "object_position": null,
      "order": null,
      "overflow": null,
      "overflow_x": null,
      "overflow_y": null,
      "padding": null,
      "right": null,
      "top": null,
      "visibility": null,
      "width": null
     }
    },
    "e8af412ed3b84539896e2288f8e08dfd": {
     "model_module": "@jupyter-widgets/controls",
     "model_name": "ProgressStyleModel",
     "state": {
      "_model_module": "@jupyter-widgets/controls",
      "_model_module_version": "1.5.0",
      "_model_name": "ProgressStyleModel",
      "_view_count": null,
      "_view_module": "@jupyter-widgets/base",
      "_view_module_version": "1.2.0",
      "_view_name": "StyleView",
      "bar_color": null,
      "description_width": ""
     }
    },
    "ed808c69a4e6415a9e2807b39aa89c35": {
     "model_module": "@jupyter-widgets/controls",
     "model_name": "HTMLModel",
     "state": {
      "_dom_classes": [],
      "_model_module": "@jupyter-widgets/controls",
      "_model_module_version": "1.5.0",
      "_model_name": "HTMLModel",
      "_view_count": null,
      "_view_module": "@jupyter-widgets/controls",
      "_view_module_version": "1.5.0",
      "_view_name": "HTMLView",
      "description": "",
      "description_tooltip": null,
      "layout": "IPY_MODEL_1e586adb44b6442ba1f96eec33e48fe0",
      "placeholder": "​",
      "style": "IPY_MODEL_164a4ad593e141dc83fed2bc5e876483",
      "value": " 2/2 [00:51&lt;00:00, 25.51s/it]"
     }
    }
   }
  }
 },
 "nbformat": 4,
 "nbformat_minor": 4
}
