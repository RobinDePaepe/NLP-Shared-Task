{
 "cells": [
  {
   "cell_type": "code",
   "execution_count": 1,
   "metadata": {
    "id": "XaIsr03-82d_"
   },
   "outputs": [],
   "source": [
    " import pandas as pd\n",
    "\n",
    "# transformer\n",
    "from sklearn.base import BaseEstimator, TransformerMixin\n",
    "\n",
    "# pipeline\n",
    "from nltk.tokenize import word_tokenize\n",
    "from sklearn.pipeline import Pipeline, FeatureUnion\n",
    "from sklearn.model_selection import train_test_split, cross_val_predict, GridSearchCV\n",
    "from sklearn.feature_extraction.text import TfidfVectorizer\n",
    "from sklearn.svm import LinearSVC\n",
    "from sklearn.metrics import classification_report"
   ]
  },
  {
   "cell_type": "code",
   "execution_count": 2,
   "metadata": {
    "id": "4FdMD1FA82eE"
   },
   "outputs": [],
   "source": [
    "toefl = pd.read_csv('toefl11_trainingdata_features')\n",
    "toefl = toefl.drop(['Unnamed: 0','Unnamed: 0.1'], axis= 1)"
   ]
  },
  {
   "cell_type": "code",
   "execution_count": 3,
   "metadata": {
    "id": "Mu8pSUVW82eF"
   },
   "outputs": [],
   "source": [
    "test = pd.read_csv('Featured_Data/test_features.csv')"
   ]
  },
  {
   "cell_type": "code",
   "execution_count": 4,
   "metadata": {
    "id": "e7yF5Hig82eF"
   },
   "outputs": [],
   "source": [
    "class ItemSelector(BaseEstimator, TransformerMixin):\n",
    "    def __init__(self, key):\n",
    "        self.key = key\n",
    "        \n",
    "    def fit(self, x, y=None):\n",
    "        return self\n",
    "    \n",
    "    def transform(self, data_dict):\n",
    "        return data_dict[self.key]"
   ]
  },
  {
   "cell_type": "markdown",
   "metadata": {
    "id": "FSpEBFDa82eG"
   },
   "source": [
    "## NLI"
   ]
  },
  {
   "cell_type": "code",
   "execution_count": 44,
   "metadata": {
    "id": "Gp9VMjjh82eG"
   },
   "outputs": [],
   "source": [
    "#Pipeline\n",
    "#define features and y \n",
    "y = toefl.drop(['Filename','text','POS','DEP', 'NER', 'prop_punct', 'prop_capwords', 'prop_capI','avg_sentlength'], axis = 1)\n",
    "x = toefl.drop(['Filename', 'Language', 'Proficiency', 'NER', 'prop_capwords',], axis = 1)\n",
    "X_train, X_dev, y_train, y_dev = train_test_split(x, y['Language'], test_size= 0.10, random_state = 11)"
   ]
  },
  {
   "cell_type": "code",
   "execution_count": 45,
   "metadata": {
    "id": "zP9dHreJ82eG"
   },
   "outputs": [],
   "source": [
    "numeric_features = ['prop_punct', 'avg_sentlength', 'prop_capI']\n",
    "tfidfvect = TfidfVectorizer()\n",
    "linsvm = LinearSVC()\n",
    "#refit with best ranges\n",
    "numfeat_pipe = Pipeline([\n",
    "    ('selector', ItemSelector(key=numeric_features))\n",
    "])\n",
    "\n",
    "# pipe word n-grams\n",
    "text_pipe = Pipeline([\n",
    "    ('selector', ItemSelector(key='text')),\n",
    "    ('vect', TfidfVectorizer(\n",
    "        tokenizer=word_tokenize,\n",
    "        analyzer='word',\n",
    "        lowercase=True,\n",
    "        ngram_range=(1,2)))\n",
    "])\n",
    "\n",
    "# pipe char n-grams\n",
    "char_pipe = Pipeline([\n",
    "    ('selector', ItemSelector(key=\"text\")),\n",
    "    ('vect', TfidfVectorizer(\n",
    "        analyzer='char',\n",
    "        lowercase=True,\n",
    "        ngram_range=(2,4)))\n",
    "])\n",
    "\n",
    "# pipe POS n-grams\n",
    "pos_pipe = Pipeline([\n",
    "    ('selector', ItemSelector(key=\"POS\")),\n",
    "    ('vect', TfidfVectorizer(\n",
    "        analyzer='word',\n",
    "        lowercase=True,\n",
    "        ngram_range=(1,3)))\n",
    "])\n",
    "\n",
    "# pipe complete\n",
    "pipe = Pipeline([\n",
    "    ('feats', FeatureUnion([\n",
    "        ('numfeat_pipe', numfeat_pipe),\n",
    "        ('text_pipe', text_pipe),\n",
    "        ('char_pipe', char_pipe),\n",
    "        ('pos_pipe', pos_pipe)\n",
    "    ])),\n",
    "    ('cls', linsvm)\n",
    "])"
   ]
  },
  {
   "cell_type": "code",
   "execution_count": 47,
   "metadata": {
    "id": "rWkBXC-482eH",
    "outputId": "fc0605d5-ee7d-4bb4-b03e-6da8592bc955"
   },
   "outputs": [
    {
     "name": "stderr",
     "output_type": "stream",
     "text": [
      "C:\\Users\\robin\\anaconda3\\lib\\site-packages\\sklearn\\svm\\_base.py:976: ConvergenceWarning: Liblinear failed to converge, increase the number of iterations.\n",
      "  warnings.warn(\"Liblinear failed to converge, increase \"\n"
     ]
    },
    {
     "data": {
      "text/plain": [
       "Pipeline(steps=[('feats',\n",
       "                 FeatureUnion(transformer_list=[('numfeat_pipe',\n",
       "                                                 Pipeline(steps=[('selector',\n",
       "                                                                  ItemSelector(key=['prop_punct',\n",
       "                                                                                    'avg_sentlength',\n",
       "                                                                                    'prop_capI']))])),\n",
       "                                                ('text_pipe',\n",
       "                                                 Pipeline(steps=[('selector',\n",
       "                                                                  ItemSelector(key='text')),\n",
       "                                                                 ('vect',\n",
       "                                                                  TfidfVectorizer(ngram_range=(1,\n",
       "                                                                                               2),\n",
       "                                                                                  tokenizer=<function word_tokenize at 0x00000201AF11E940>))])),\n",
       "                                                ('char_pipe',\n",
       "                                                 Pipeline(steps=[('selector',\n",
       "                                                                  ItemSelector(key='text')),\n",
       "                                                                 ('vect',\n",
       "                                                                  TfidfVectorizer(analyzer='char',\n",
       "                                                                                  ngram_range=(2,\n",
       "                                                                                               4)))])),\n",
       "                                                ('pos_pipe',\n",
       "                                                 Pipeline(steps=[('selector',\n",
       "                                                                  ItemSelector(key='POS')),\n",
       "                                                                 ('vect',\n",
       "                                                                  TfidfVectorizer(ngram_range=(1,\n",
       "                                                                                               3)))]))])),\n",
       "                ('cls', LinearSVC())])"
      ]
     },
     "execution_count": 47,
     "metadata": {},
     "output_type": "execute_result"
    }
   ],
   "source": [
    "# fit model\n",
    "pipe.fit(X_train, y_train)"
   ]
  },
  {
   "cell_type": "code",
   "execution_count": 8,
   "metadata": {
    "id": "AeA9dnt482eI",
    "outputId": "81a2f58b-5eb6-40fd-fb00-03c2af569b2a"
   },
   "outputs": [
    {
     "name": "stdout",
     "output_type": "stream",
     "text": [
      "              precision    recall  f1-score   support\n",
      "\n",
      "         ARA       0.81      0.75      0.78        93\n",
      "         DEU       0.90      0.91      0.91       102\n",
      "         FRA       0.81      0.79      0.80        99\n",
      "         HIN       0.68      0.76      0.72       102\n",
      "         ITA       0.87      0.85      0.86        89\n",
      "         JPN       0.76      0.76      0.76        98\n",
      "         KOR       0.78      0.81      0.79       103\n",
      "         SPA       0.78      0.80      0.79        86\n",
      "         TEL       0.76      0.73      0.75       104\n",
      "         TUR       0.89      0.81      0.85       118\n",
      "         ZHO       0.82      0.88      0.85       106\n",
      "\n",
      "    accuracy                           0.81      1100\n",
      "   macro avg       0.81      0.81      0.81      1100\n",
      "weighted avg       0.81      0.81      0.81      1100\n",
      "\n"
     ]
    }
   ],
   "source": [
    "# prediction\n",
    "y_dev_pred = pipe.predict(X_dev)\n",
    "\n",
    "# accuracy\n",
    "print(classification_report(y_dev, y_dev_pred))"
   ]
  },
  {
   "cell_type": "code",
   "execution_count": 22,
   "metadata": {},
   "outputs": [
    {
     "name": "stderr",
     "output_type": "stream",
     "text": [
      "[Parallel(n_jobs=-1)]: Using backend LokyBackend with 12 concurrent workers.\n",
      "[Parallel(n_jobs=-1)]: Done  10 out of  10 | elapsed: 42.1min finished\n"
     ]
    }
   ],
   "source": [
    "cv_results = cross_val_predict(pipe, x, y['Language'], cv=10, verbose=True, n_jobs=-1)\n"
   ]
  },
  {
   "cell_type": "code",
   "execution_count": 29,
   "metadata": {},
   "outputs": [
    {
     "name": "stdout",
     "output_type": "stream",
     "text": [
      "              precision    recall  f1-score   support\n",
      "\n",
      "         ARA       0.84      0.75      0.79      1000\n",
      "         DEU       0.86      0.93      0.89      1000\n",
      "         FRA       0.83      0.82      0.83      1000\n",
      "         HIN       0.70      0.74      0.72      1000\n",
      "         ITA       0.87      0.86      0.87      1000\n",
      "         JPN       0.82      0.79      0.81      1000\n",
      "         KOR       0.78      0.78      0.78      1000\n",
      "         SPA       0.76      0.77      0.77      1000\n",
      "         TEL       0.78      0.77      0.77      1000\n",
      "         TUR       0.86      0.86      0.86      1000\n",
      "         ZHO       0.84      0.87      0.86      1000\n",
      "\n",
      "    accuracy                           0.81     11000\n",
      "   macro avg       0.81      0.81      0.81     11000\n",
      "weighted avg       0.81      0.81      0.81     11000\n",
      "\n"
     ]
    }
   ],
   "source": [
    "print(classification_report(y['Language'], cv_results))"
   ]
  },
  {
   "cell_type": "code",
   "execution_count": 41,
   "metadata": {},
   "outputs": [
    {
     "name": "stdout",
     "output_type": "stream",
     "text": [
      "[0.77363636 0.82545455 0.81272727 0.81272727 0.81727273 0.83272727\n",
      " 0.80090909 0.81818182 0.82545455 0.81090909]\n"
     ]
    }
   ],
   "source": [
    "from sklearn.model_selection import cross_val_score\n",
    "print(cross_val_score(pipe, x, y['Language'], cv = 10))"
   ]
  },
  {
   "cell_type": "code",
   "execution_count": 67,
   "metadata": {},
   "outputs": [
    {
     "data": {
      "image/png": "[encoded data removed]",
      "text/plain": [
       "<Figure size 720x720 with 2 Axes>"
      ]
     },
     "metadata": {
      "needs_background": "light"
     },
     "output_type": "display_data"
    }
   ],
   "source": [
    "import matplotlib.pyplot as plt\n",
    "from sklearn.metrics import plot_confusion_matrix, ConfusionMatrixDisplay\n",
    "plt.rcParams[\"figure.figsize\"] = (10,10)\n",
    "cm = plot_confusion_matrix(pipe, X_dev, y_dev , normalize='true')\n",
    "disp = ConfusionMatrixDisplay(confusion_matrix = cm, display_labels = pipe.classes_)\n",
    "plt.title('Error Analysis NLI')\n",
    "plt.plot()\n",
    "plt.savefig('cm_lang.png')\n",
    "plt.show()"
   ]
  },
  {
   "cell_type": "code",
   "execution_count": 17,
   "metadata": {
    "id": "Lyq1bO8x82eI"
   },
   "outputs": [],
   "source": [
    "test_predict_Language = pipe.predict(test)"
   ]
  },
  {
   "cell_type": "markdown",
   "metadata": {
    "id": "-xywRmPD82eJ",
    "jupyter": {
     "outputs_hidden": true
    },
    "outputId": "17dc7ab1-ee4c-4a3f-942a-8f65e0173a96"
   },
   "source": [
    "test['Predicted_Language'] = test_predict_Language\n",
    "test"
   ]
  },
  {
   "cell_type": "markdown",
   "metadata": {
    "id": "N3q60f1-82eJ"
   },
   "source": [
    "## Proficiency"
   ]
  },
  {
   "cell_type": "code",
   "execution_count": 68,
   "metadata": {
    "id": "NWyFJpSy82eJ"
   },
   "outputs": [],
   "source": [
    "y = toefl.drop(['Filename','text','POS','DEP', 'NER', 'prop_punct', 'prop_capwords', 'prop_capI','avg_sentlength'], axis = 1)\n",
    "x = toefl.drop(['Filename', 'Language', 'Proficiency', 'NER', 'prop_capwords','avg_sentlength'], axis = 1)\n",
    "X_train, X_dev, y_train, y_dev = train_test_split(x, y['Proficiency'], test_size= 0.10, random_state = 11)\n",
    "# dropping avg_sent lenght as well"
   ]
  },
  {
   "cell_type": "code",
   "execution_count": 69,
   "metadata": {
    "id": "YJYPeN6L82eK"
   },
   "outputs": [],
   "source": [
    "numeric_features = ['prop_punct', 'prop_capI']\n",
    "tfidfvect = TfidfVectorizer()\n",
    "\n",
    "linsvm = LinearSVC()\n",
    "#refit with best ranges\n",
    "numfeat_pipe = Pipeline([\n",
    "    ('selector', ItemSelector(key=numeric_features))\n",
    "])\n",
    "\n",
    "# pipe word n-grams\n",
    "text_pipe = Pipeline([\n",
    "    ('selector', ItemSelector(key='text')),\n",
    "    ('vect', TfidfVectorizer(\n",
    "        tokenizer=word_tokenize,\n",
    "        analyzer='word',\n",
    "        lowercase=True,\n",
    "        ngram_range=(1,2)))\n",
    "])\n",
    "\n",
    "# pipe char n-grams\n",
    "char_pipe = Pipeline([\n",
    "    ('selector', ItemSelector(key=\"text\")),\n",
    "    ('vect', TfidfVectorizer(\n",
    "        analyzer='char',\n",
    "        lowercase=True,\n",
    "        ngram_range=(2,3)))\n",
    "])\n",
    "\n",
    "# pipe POS n-grams\n",
    "pos_pipe = Pipeline([\n",
    "    ('selector', ItemSelector(key=\"POS\")),\n",
    "    ('vect', TfidfVectorizer(\n",
    "        analyzer='word',\n",
    "        lowercase=True,\n",
    "        ngram_range=(1,4)))\n",
    "])\n",
    "\n",
    "# pipe complete\n",
    "pipe = Pipeline([\n",
    "    ('feats', FeatureUnion([\n",
    "        ('numfeat_pipe', numfeat_pipe),\n",
    "        ('text_pipe', text_pipe),\n",
    "        ('char_pipe', char_pipe),\n",
    "        ('pos_pipe', pos_pipe)\n",
    "    ])),\n",
    "    ('cls', linsvm)\n",
    "])"
   ]
  },
  {
   "cell_type": "code",
   "execution_count": 70,
   "metadata": {
    "id": "0uPOAC9g82eK",
    "outputId": "08e660c9-ad65-480f-b6f4-376ac636e2ec"
   },
   "outputs": [
    {
     "data": {
      "text/plain": [
       "Pipeline(steps=[('feats',\n",
       "                 FeatureUnion(transformer_list=[('numfeat_pipe',\n",
       "                                                 Pipeline(steps=[('selector',\n",
       "                                                                  ItemSelector(key=['prop_punct',\n",
       "                                                                                    'prop_capI']))])),\n",
       "                                                ('text_pipe',\n",
       "                                                 Pipeline(steps=[('selector',\n",
       "                                                                  ItemSelector(key='text')),\n",
       "                                                                 ('vect',\n",
       "                                                                  TfidfVectorizer(ngram_range=(1,\n",
       "                                                                                               2),\n",
       "                                                                                  tokenizer=<function word_tokenize at 0x00000201AF11E940>))])),\n",
       "                                                ('char_pipe',\n",
       "                                                 Pipeline(steps=[('selector',\n",
       "                                                                  ItemSelector(key='text')),\n",
       "                                                                 ('vect',\n",
       "                                                                  TfidfVectorizer(analyzer='char',\n",
       "                                                                                  ngram_range=(2,\n",
       "                                                                                               3)))])),\n",
       "                                                ('pos_pipe',\n",
       "                                                 Pipeline(steps=[('selector',\n",
       "                                                                  ItemSelector(key='POS')),\n",
       "                                                                 ('vect',\n",
       "                                                                  TfidfVectorizer(ngram_range=(1,\n",
       "                                                                                               4)))]))])),\n",
       "                ('cls', LinearSVC())])"
      ]
     },
     "execution_count": 70,
     "metadata": {},
     "output_type": "execute_result"
    }
   ],
   "source": [
    "# fit model\n",
    "pipe.fit(X_train, y_train)"
   ]
  },
  {
   "cell_type": "code",
   "execution_count": 35,
   "metadata": {
    "id": "L6bSC5DQ82eK",
    "outputId": "e5a1c045-071c-4834-d6d7-8ff5741d5c4a"
   },
   "outputs": [
    {
     "name": "stdout",
     "output_type": "stream",
     "text": [
      "              precision    recall  f1-score   support\n",
      "\n",
      "        high       0.66      0.78      0.72       379\n",
      "         low       0.86      0.40      0.55       120\n",
      "      medium       0.74      0.74      0.74       601\n",
      "\n",
      "    accuracy                           0.71      1100\n",
      "   macro avg       0.75      0.64      0.67      1100\n",
      "weighted avg       0.73      0.71      0.71      1100\n",
      "\n"
     ]
    }
   ],
   "source": [
    "from sklearn.metrics import classification_report\n",
    "# prediction\n",
    "y_dev_pred = pipe.predict(X_dev)\n",
    "\n",
    "# accuracy\n",
    "print(classification_report(y_dev, y_dev_pred))"
   ]
  },
  {
   "cell_type": "code",
   "execution_count": 43,
   "metadata": {},
   "outputs": [
    {
     "name": "stderr",
     "output_type": "stream",
     "text": [
      "[Parallel(n_jobs=-1)]: Using backend LokyBackend with 12 concurrent workers.\n",
      "[Parallel(n_jobs=-1)]: Done  10 out of  10 | elapsed:  1.9min finished\n"
     ]
    },
    {
     "name": "stdout",
     "output_type": "stream",
     "text": [
      "              precision    recall  f1-score   support\n",
      "\n",
      "        high       0.66      0.79      0.72      3835\n",
      "         low       0.81      0.34      0.48      1201\n",
      "      medium       0.73      0.72      0.73      5964\n",
      "\n",
      "    accuracy                           0.71     11000\n",
      "   macro avg       0.73      0.62      0.64     11000\n",
      "weighted avg       0.71      0.71      0.70     11000\n",
      "\n"
     ]
    }
   ],
   "source": [
    "cv_results = cross_val_predict(pipe, x, y['Proficiency'], cv=10, verbose=True, n_jobs=-1)\n",
    "print(classification_report(y['Proficiency'], cv_results))"
   ]
  },
  {
   "cell_type": "code",
   "execution_count": 42,
   "metadata": {},
   "outputs": [
    {
     "name": "stdout",
     "output_type": "stream",
     "text": [
      "[0.71181818 0.69727273 0.70727273 0.72272727 0.70090909 0.68272727\n",
      " 0.7        0.71090909 0.71818182 0.70090909]\n"
     ]
    }
   ],
   "source": [
    "print(cross_val_score(pipe, x, y['Proficiency'], cv = 10))"
   ]
  },
  {
   "cell_type": "code",
   "execution_count": 71,
   "metadata": {},
   "outputs": [
    {
     "data": {
      "image/png": "[encoded data removed]",
      "text/plain": [
       "<Figure size 720x720 with 2 Axes>"
      ]
     },
     "metadata": {
      "needs_background": "light"
     },
     "output_type": "display_data"
    }
   ],
   "source": [
    "plt.rcParams[\"figure.figsize\"] = (10,10)\n",
    "cm = plot_confusion_matrix(pipe, X_dev, y_dev , normalize='true')\n",
    "disp = ConfusionMatrixDisplay(confusion_matrix = cm, display_labels = pipe.classes_)\n",
    "plt.title('Error Analysis NLI')\n",
    "plt.plot()\n",
    "plt.savefig('cm_prof.png')\n",
    "plt.show()"
   ]
  },
  {
   "cell_type": "markdown",
   "metadata": {},
   "source": [
    "## Predict test labels"
   ]
  },
  {
   "cell_type": "code",
   "execution_count": 37,
   "metadata": {
    "id": "twOaPwKe82eL",
    "outputId": "f25c00de-e2c3-44ea-ffa7-7cb58aa116ea"
   },
   "outputs": [],
   "source": [
    "test_predict_proficiency = pipe.predict(test)\n",
    "#test_predict_proficiency"
   ]
  },
  {
   "cell_type": "code",
   "execution_count": 25,
   "metadata": {
    "id": "wLWsRFbj82eL"
   },
   "outputs": [],
   "source": [
    "test['Predicted_Proficiency'] = test_predict_proficiency"
   ]
  },
  {
   "cell_type": "code",
   "execution_count": null,
   "metadata": {
    "collapsed": true,
    "id": "O099kdeU82eL",
    "jupyter": {
     "outputs_hidden": true
    },
    "outputId": "d25665e6-f498-439a-b048-c43d36ce03db"
   },
   "outputs": [
    {
     "data": {
      "text/html": [
       "<div>\n",
       "<style scoped>\n",
       "    .dataframe tbody tr th:only-of-type {\n",
       "        vertical-align: middle;\n",
       "    }\n",
       "\n",
       "    .dataframe tbody tr th {\n",
       "        vertical-align: top;\n",
       "    }\n",
       "\n",
       "    .dataframe thead th {\n",
       "        text-align: right;\n",
       "    }\n",
       "</style>\n",
       "<table border=\"1\" class=\"dataframe\">\n",
       "  <thead>\n",
       "    <tr style=\"text-align: right;\">\n",
       "      <th></th>\n",
       "      <th>Filename</th>\n",
       "      <th>text</th>\n",
       "      <th>Predicted_Language</th>\n",
       "      <th>Predicted_Proficiency</th>\n",
       "    </tr>\n",
       "  </thead>\n",
       "  <tbody>\n",
       "    <tr>\n",
       "      <th>0</th>\n",
       "      <td>10226.txt</td>\n",
       "      <td>I agree. Because if I had many academic subjec...</td>\n",
       "      <td>JPN</td>\n",
       "      <td>low</td>\n",
       "    </tr>\n",
       "    <tr>\n",
       "      <th>1</th>\n",
       "      <td>10229.txt</td>\n",
       "      <td>I DO NOT AGREE WITH THIS STATEMENT BECOUSE , N...</td>\n",
       "      <td>ARA</td>\n",
       "      <td>low</td>\n",
       "    </tr>\n",
       "    <tr>\n",
       "      <th>2</th>\n",
       "      <td>10392.txt</td>\n",
       "      <td>I am not quite sure about my oppinion on that ...</td>\n",
       "      <td>DEU</td>\n",
       "      <td>high</td>\n",
       "    </tr>\n",
       "    <tr>\n",
       "      <th>3</th>\n",
       "      <td>10445.txt</td>\n",
       "      <td>It is often said that young people's interest ...</td>\n",
       "      <td>JPN</td>\n",
       "      <td>high</td>\n",
       "    </tr>\n",
       "    <tr>\n",
       "      <th>4</th>\n",
       "      <td>10535.txt</td>\n",
       "      <td>In mordern society, students always face the d...</td>\n",
       "      <td>ZHO</td>\n",
       "      <td>high</td>\n",
       "    </tr>\n",
       "    <tr>\n",
       "      <th>...</th>\n",
       "      <td>...</td>\n",
       "      <td>...</td>\n",
       "      <td>...</td>\n",
       "      <td>...</td>\n",
       "    </tr>\n",
       "    <tr>\n",
       "      <th>1095</th>\n",
       "      <td>1175383.txt</td>\n",
       "      <td>There are heated disscussion about that youn...</td>\n",
       "      <td>ZHO</td>\n",
       "      <td>medium</td>\n",
       "    </tr>\n",
       "    <tr>\n",
       "      <th>1096</th>\n",
       "      <td>1175412.txt</td>\n",
       "      <td>In my personal opinion young people do not spe...</td>\n",
       "      <td>HIN</td>\n",
       "      <td>medium</td>\n",
       "    </tr>\n",
       "    <tr>\n",
       "      <th>1097</th>\n",
       "      <td>1175488.txt</td>\n",
       "      <td>I believe that people who take risks are succe...</td>\n",
       "      <td>TUR</td>\n",
       "      <td>high</td>\n",
       "    </tr>\n",
       "    <tr>\n",
       "      <th>1098</th>\n",
       "      <td>1175980.txt</td>\n",
       "      <td>With the rapid progress of time everything aro...</td>\n",
       "      <td>TUR</td>\n",
       "      <td>medium</td>\n",
       "    </tr>\n",
       "    <tr>\n",
       "      <th>1099</th>\n",
       "      <td>1176184.txt</td>\n",
       "      <td>Taking risks and trying new things have in com...</td>\n",
       "      <td>DEU</td>\n",
       "      <td>high</td>\n",
       "    </tr>\n",
       "  </tbody>\n",
       "</table>\n",
       "<p>1100 rows × 4 columns</p>\n",
       "</div>"
      ],
      "text/plain": [
       "         Filename                                               text  \\\n",
       "0       10226.txt  I agree. Because if I had many academic subjec...   \n",
       "1       10229.txt  I DO NOT AGREE WITH THIS STATEMENT BECOUSE , N...   \n",
       "2       10392.txt  I am not quite sure about my oppinion on that ...   \n",
       "3       10445.txt  It is often said that young people's interest ...   \n",
       "4       10535.txt  In mordern society, students always face the d...   \n",
       "...           ...                                                ...   \n",
       "1095  1175383.txt    There are heated disscussion about that youn...   \n",
       "1096  1175412.txt  In my personal opinion young people do not spe...   \n",
       "1097  1175488.txt  I believe that people who take risks are succe...   \n",
       "1098  1175980.txt  With the rapid progress of time everything aro...   \n",
       "1099  1176184.txt  Taking risks and trying new things have in com...   \n",
       "\n",
       "     Predicted_Language Predicted_Proficiency  \n",
       "0                   JPN                   low  \n",
       "1                   ARA                   low  \n",
       "2                   DEU                  high  \n",
       "3                   JPN                  high  \n",
       "4                   ZHO                  high  \n",
       "...                 ...                   ...  \n",
       "1095                ZHO                medium  \n",
       "1096                HIN                medium  \n",
       "1097                TUR                  high  \n",
       "1098                TUR                medium  \n",
       "1099                DEU                  high  \n",
       "\n",
       "[1100 rows x 4 columns]"
      ]
     },
     "execution_count": 55,
     "metadata": {
      "tags": []
     },
     "output_type": "execute_result"
    }
   ],
   "source": [
    "output = test[['Filename','text', 'Predicted_Language','Predicted_Proficiency']]\n",
    "#output"
   ]
  },
  {
   "cell_type": "code",
   "execution_count": null,
   "metadata": {
    "id": "HX08Hs9382eM"
   },
   "outputs": [],
   "source": [
    "output.to_csv('predictions_output.csv')"
   ]
  }
 ],
 "metadata": {
  "colab": {
   "name": "4-Final Model.ipynb",
   "provenance": []
  },
  "kernelspec": {
   "display_name": "Python 3",
   "language": "python",
   "name": "python3"
  },
  "language_info": {
   "codemirror_mode": {
    "name": "ipython",
    "version": 3
   },
   "file_extension": ".py",
   "mimetype": "text/x-python",
   "name": "python",
   "nbconvert_exporter": "python",
   "pygments_lexer": "ipython3",
   "version": "3.8.5"
  }
 },
 "nbformat": 4,
 "nbformat_minor": 4
}
