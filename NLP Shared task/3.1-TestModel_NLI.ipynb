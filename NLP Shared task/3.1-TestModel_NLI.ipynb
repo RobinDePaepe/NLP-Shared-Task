{
 "cells": [
  {
   "cell_type": "code",
   "execution_count": 14,
   "metadata": {},
   "outputs": [
    {
     "name": "stderr",
     "output_type": "stream",
     "text": [
      "[nltk_data] Downloading package punkt to\n",
      "[nltk_data]     C:\\Users\\robin\\AppData\\Roaming\\nltk_data...\n",
      "[nltk_data]   Package punkt is already up-to-date!\n"
     ]
    },
    {
     "data": {
      "text/plain": [
       "True"
      ]
     },
     "execution_count": 14,
     "metadata": {},
     "output_type": "execute_result"
    }
   ],
   "source": [
    "import nltk\n",
    "nltk.download('punkt')"
   ]
  },
  {
   "cell_type": "code",
   "execution_count": 13,
   "metadata": {},
   "outputs": [],
   "source": [
    "#imports\n",
    "import pandas as pd\n",
    "\n",
    "# transformer\n",
    "from sklearn.base import BaseEstimator, TransformerMixin\n",
    "\n",
    "# pipeline\n",
    "from nltk.tokenize import word_tokenize\n",
    "from sklearn.pipeline import Pipeline, FeatureUnion\n",
    "from sklearn.model_selection import train_test_split, cross_val_predict, GridSearchCV\n",
    "from sklearn.feature_extraction.text import TfidfVectorizer, CountVectorizer\n",
    "from sklearn.svm import LinearSVC, SVC\n",
    "from sklearn.metrics import classification_report"
   ]
  },
  {
   "cell_type": "code",
   "execution_count": 15,
   "metadata": {},
   "outputs": [],
   "source": [
    "#load the data\n",
    "#toefl = pd.read_csv('Google Drive/NLP Shared task/toefl11_trainingdata_features') --> colab\n",
    "toefl = pd.read_csv('toefl11_trainingdata_features')\n",
    "toefl = toefl.drop(['Unnamed: 0','Unnamed: 0.1'], axis= 1)"
   ]
  },
  {
   "cell_type": "code",
   "execution_count": 16,
   "metadata": {},
   "outputs": [],
   "source": [
    "#Pipeline\n",
    "#define features and y \n",
    "x = toefl.drop(['Filename', 'Language', 'Proficiency'], axis= 1)\n",
    "y = toefl.drop(['Filename','text','POS','DEP', 'NER', 'prop_punct', 'prop_capwords', 'prop_capI','avg_sentlength'], axis = 1)\n"
   ]
  },
  {
   "cell_type": "code",
   "execution_count": 17,
   "metadata": {},
   "outputs": [],
   "source": [
    "#define custom tranformer\n",
    "class ItemSelector(BaseEstimator, TransformerMixin):\n",
    "    def __init__(self, key):\n",
    "        self.key = key\n",
    "        \n",
    "    def fit(self, x, y=None):\n",
    "        return self\n",
    "    \n",
    "    def transform(self, data_dict):\n",
    "        return data_dict[self.key]"
   ]
  },
  {
   "cell_type": "code",
   "execution_count": 18,
   "metadata": {},
   "outputs": [],
   "source": [
    "numeric_features = ['prop_punct', 'avg_sentlength', 'prop_capwords', 'prop_capI']\n",
    "tfvect = CountVectorizer()\n",
    "tfidfvect = TfidfVectorizer()\n",
    "svm = SVC()\n",
    "linsvm = LinearSVC()\n",
    "#make the individual pipelines\n",
    "\n",
    "# pipe numeric features\n",
    "numfeat_pipe = Pipeline([\n",
    "    ('selector', ItemSelector(key=numeric_features))\n",
    "])\n",
    "\n",
    "# pipe word n-grams\n",
    "text_pipe = Pipeline([\n",
    "    ('selector', ItemSelector(key='text')),\n",
    "    ('vect', TfidfVectorizer(\n",
    "        tokenizer=word_tokenize,\n",
    "        analyzer='word',\n",
    "        lowercase=True,\n",
    "        ngram_range=(1,2)))\n",
    "])\n",
    "\n",
    "# pipe char n-grams\n",
    "char_pipe = Pipeline([\n",
    "    ('selector', ItemSelector(key=\"text\")),\n",
    "    ('vect', TfidfVectorizer(\n",
    "        analyzer='char',\n",
    "        lowercase=True,\n",
    "        ngram_range=(2,3)))\n",
    "])\n",
    "\n",
    "# pipe POS n-grams\n",
    "pos_pipe = Pipeline([\n",
    "    ('selector', ItemSelector(key=\"POS\")),\n",
    "    ('vect', TfidfVectorizer(\n",
    "        analyzer='word',\n",
    "        lowercase=True,\n",
    "        ngram_range=(1,3)))\n",
    "])\n",
    "\n",
    "# pipe dependencies\n",
    "dep_pipe = Pipeline([\n",
    "    ('selector', ItemSelector(key=\"DEP\")),\n",
    "    ('vect', TfidfVectorizer(\n",
    "        analyzer='word',\n",
    "        lowercase=True,\n",
    "        ngram_range=(1,2)))\n",
    "])"
   ]
  },
  {
   "cell_type": "code",
   "execution_count": 19,
   "metadata": {},
   "outputs": [],
   "source": [
    "# pipe complete\n",
    "pipe = Pipeline([\n",
    "    ('feats', FeatureUnion([\n",
    "        ('numfeat_pipe', numfeat_pipe),\n",
    "        ('text_pipe', text_pipe),\n",
    "        ('char_pipe', char_pipe),\n",
    "        ('pos_pipe', pos_pipe)\n",
    "    ])),\n",
    "    ('cls', linsvm)\n",
    "])"
   ]
  },
  {
   "cell_type": "code",
   "execution_count": 20,
   "metadata": {},
   "outputs": [],
   "source": [
    "X_train, X_test, y_train, y_test = train_test_split(x, y['Language'], test_size= 0.20)"
   ]
  },
  {
   "cell_type": "code",
   "execution_count": 21,
   "metadata": {},
   "outputs": [
    {
     "name": "stderr",
     "output_type": "stream",
     "text": [
      "C:\\Users\\robin\\anaconda3\\lib\\site-packages\\sklearn\\svm\\_base.py:976: ConvergenceWarning: Liblinear failed to converge, increase the number of iterations.\n",
      "  warnings.warn(\"Liblinear failed to converge, increase \"\n"
     ]
    },
    {
     "data": {
      "text/plain": [
       "Pipeline(steps=[('feats',\n",
       "                 FeatureUnion(transformer_list=[('numfeat_pipe',\n",
       "                                                 Pipeline(steps=[('selector',\n",
       "                                                                  ItemSelector(key=['prop_punct',\n",
       "                                                                                    'avg_sentlength',\n",
       "                                                                                    'prop_capwords',\n",
       "                                                                                    'prop_capI']))])),\n",
       "                                                ('text_pipe',\n",
       "                                                 Pipeline(steps=[('selector',\n",
       "                                                                  ItemSelector(key='text')),\n",
       "                                                                 ('vect',\n",
       "                                                                  TfidfVectorizer(ngram_range=(1,\n",
       "                                                                                               2),\n",
       "                                                                                  tokenizer=<function word_tokenize at 0x000001EBC3A19430>))])),\n",
       "                                                ('char_pipe',\n",
       "                                                 Pipeline(steps=[('selector',\n",
       "                                                                  ItemSelector(key='text')),\n",
       "                                                                 ('vect',\n",
       "                                                                  TfidfVectorizer(analyzer='char',\n",
       "                                                                                  ngram_range=(2,\n",
       "                                                                                               3)))])),\n",
       "                                                ('pos_pipe',\n",
       "                                                 Pipeline(steps=[('selector',\n",
       "                                                                  ItemSelector(key='POS')),\n",
       "                                                                 ('vect',\n",
       "                                                                  TfidfVectorizer(ngram_range=(1,\n",
       "                                                                                               3)))]))])),\n",
       "                ('cls', LinearSVC())])"
      ]
     },
     "execution_count": 21,
     "metadata": {},
     "output_type": "execute_result"
    }
   ],
   "source": [
    "pipe.fit(X_train, y_train)"
   ]
  },
  {
   "cell_type": "code",
   "execution_count": 22,
   "metadata": {},
   "outputs": [
    {
     "name": "stdout",
     "output_type": "stream",
     "text": [
      "              precision    recall  f1-score   support\n",
      "\n",
      "         ARA       0.84      0.75      0.79       190\n",
      "         DEU       0.84      0.93      0.88       207\n",
      "         FRA       0.84      0.79      0.82       229\n",
      "         HIN       0.70      0.79      0.74       184\n",
      "         ITA       0.84      0.87      0.86       198\n",
      "         JPN       0.86      0.76      0.80       197\n",
      "         KOR       0.75      0.83      0.79       189\n",
      "         SPA       0.73      0.77      0.75       216\n",
      "         TEL       0.81      0.76      0.78       180\n",
      "         TUR       0.88      0.82      0.85       211\n",
      "         ZHO       0.82      0.82      0.82       199\n",
      "\n",
      "    accuracy                           0.81      2200\n",
      "   macro avg       0.81      0.81      0.81      2200\n",
      "weighted avg       0.81      0.81      0.81      2200\n",
      "\n"
     ]
    }
   ],
   "source": [
    "# prediction\n",
    "y_test_pred = pipe.predict(X_test)\n",
    "\n",
    "# accuracy\n",
    "print(classification_report(y_test, y_test_pred))"
   ]
  },
  {
   "cell_type": "code",
   "execution_count": 23,
   "metadata": {},
   "outputs": [
    {
     "name": "stderr",
     "output_type": "stream",
     "text": [
      "[Parallel(n_jobs=-1)]: Using backend LokyBackend with 12 concurrent workers.\n"
     ]
    },
    {
     "name": "stdout",
     "output_type": "stream",
     "text": [
      "              precision    recall  f1-score   support\n",
      "\n",
      "         ARA       0.78      0.55      0.64       190\n",
      "         DEU       0.70      0.91      0.79       207\n",
      "         FRA       0.67      0.75      0.71       229\n",
      "         HIN       0.64      0.65      0.64       184\n",
      "         ITA       0.74      0.76      0.75       198\n",
      "         JPN       0.65      0.61      0.63       197\n",
      "         KOR       0.59      0.62      0.61       189\n",
      "         SPA       0.63      0.60      0.61       216\n",
      "         TEL       0.70      0.69      0.70       180\n",
      "         TUR       0.77      0.64      0.70       211\n",
      "         ZHO       0.67      0.69      0.68       199\n",
      "\n",
      "    accuracy                           0.68      2200\n",
      "   macro avg       0.68      0.68      0.68      2200\n",
      "weighted avg       0.68      0.68      0.68      2200\n",
      "\n"
     ]
    },
    {
     "name": "stderr",
     "output_type": "stream",
     "text": [
      "[Parallel(n_jobs=-1)]: Done  10 out of  10 | elapsed:  4.5min finished\n"
     ]
    }
   ],
   "source": [
    "# cross-validation\n",
    "cv_results = cross_val_predict(pipe, X_test, y_test, cv=10, verbose=True, n_jobs=-1)\n",
    "print(classification_report(y_test, cv_results))"
   ]
  },
  {
   "cell_type": "code",
   "execution_count": 24,
   "metadata": {},
   "outputs": [
    {
     "name": "stdout",
     "output_type": "stream",
     "text": [
      "Fitting 5 folds for each of 18 candidates, totalling 90 fits\n"
     ]
    },
    {
     "name": "stderr",
     "output_type": "stream",
     "text": [
      "[Parallel(n_jobs=-1)]: Using backend LokyBackend with 12 concurrent workers.\n",
      "[Parallel(n_jobs=-1)]: Done   1 tasks      | elapsed: 15.1min\n",
      "[Parallel(n_jobs=-1)]: Done   8 tasks      | elapsed: 29.7min\n",
      "[Parallel(n_jobs=-1)]: Done  17 tasks      | elapsed: 50.1min\n",
      "[Parallel(n_jobs=-1)]: Done  26 tasks      | elapsed: 68.1min\n",
      "[Parallel(n_jobs=-1)]: Done  37 tasks      | elapsed: 93.5min\n",
      "[Parallel(n_jobs=-1)]: Done  48 tasks      | elapsed: 122.3min\n",
      "[Parallel(n_jobs=-1)]: Done  61 tasks      | elapsed: 161.8min\n",
      "[Parallel(n_jobs=-1)]: Done  77 out of  90 | elapsed: 214.6min remaining: 36.2min\n",
      "[Parallel(n_jobs=-1)]: Done  87 out of  90 | elapsed: 252.4min remaining:  8.7min\n",
      "[Parallel(n_jobs=-1)]: Done  90 out of  90 | elapsed: 256.7min finished\n",
      "C:\\Users\\robin\\anaconda3\\lib\\site-packages\\sklearn\\svm\\_base.py:976: ConvergenceWarning: Liblinear failed to converge, increase the number of iterations.\n",
      "  warnings.warn(\"Liblinear failed to converge, increase \"\n"
     ]
    },
    {
     "data": {
      "text/plain": [
       "GridSearchCV(cv=5,\n",
       "             estimator=Pipeline(steps=[('feats',\n",
       "                                        FeatureUnion(transformer_list=[('numfeat_pipe',\n",
       "                                                                        Pipeline(steps=[('selector',\n",
       "                                                                                         ItemSelector(key=['prop_punct',\n",
       "                                                                                                           'avg_sentlength',\n",
       "                                                                                                           'prop_capwords',\n",
       "                                                                                                           'prop_capI']))])),\n",
       "                                                                       ('text_pipe',\n",
       "                                                                        Pipeline(steps=[('selector',\n",
       "                                                                                         ItemSelector(key='text')),\n",
       "                                                                                        ('vect',\n",
       "                                                                                         TfidfVectorizer(ngram_range=(1,\n",
       "                                                                                                                      2),\n",
       "                                                                                                         tokenizer=<function word_tokeniz...\n",
       "                                                                                                         ngram_range=(2,\n",
       "                                                                                                                      3)))])),\n",
       "                                                                       ('pos_pipe',\n",
       "                                                                        Pipeline(steps=[('selector',\n",
       "                                                                                         ItemSelector(key='POS')),\n",
       "                                                                                        ('vect',\n",
       "                                                                                         TfidfVectorizer(ngram_range=(1,\n",
       "                                                                                                                      3)))]))])),\n",
       "                                       ('cls', LinearSVC())]),\n",
       "             n_jobs=-1,\n",
       "             param_grid={'feats__char_pipe__vect__ngram_range': [(2, 2), (2, 3),\n",
       "                                                                 (2, 4)],\n",
       "                         'feats__pos_pipe__vect__ngram_range': [(1, 2), (1, 3),\n",
       "                                                                (1, 4)],\n",
       "                         'feats__text_pipe__vect__ngram_range': [(1, 2),\n",
       "                                                                 (1, 3)]},\n",
       "             verbose=10)"
      ]
     },
     "execution_count": 24,
     "metadata": {},
     "output_type": "execute_result"
    }
   ],
   "source": [
    "params = {\"feats__text_pipe__vect__ngram_range\": [(1,2), (1,3)], \n",
    "          \"feats__char_pipe__vect__ngram_range\": [(2,2), (2,3), (2,4)],\n",
    "          \"feats__pos_pipe__vect__ngram_range\": [(1,2),(1,3),(1,4)]\n",
    "         }\n",
    "\n",
    "ngram_search = GridSearchCV(pipe, params, cv=5, n_jobs=-1, verbose=10)\n",
    "ngram_search.fit(X_train, y_train)"
   ]
  },
  {
   "cell_type": "code",
   "execution_count": 25,
   "metadata": {},
   "outputs": [
    {
     "name": "stdout",
     "output_type": "stream",
     "text": [
      "0.7997727272727273\n",
      "{'feats__char_pipe__vect__ngram_range': (2, 4), 'feats__pos_pipe__vect__ngram_range': (1, 3), 'feats__text_pipe__vect__ngram_range': (1, 2)}\n"
     ]
    }
   ],
   "source": [
    "print(ngram_search.best_score_)\n",
    "print(ngram_search.best_params_)"
   ]
  },
  {
   "cell_type": "code",
   "execution_count": 26,
   "metadata": {},
   "outputs": [],
   "source": [
    "#refit with best ranges\n",
    "numfeat_pipe = Pipeline([\n",
    "    ('selector', ItemSelector(key=numeric_features))\n",
    "])\n",
    "\n",
    "# pipe word n-grams\n",
    "text_pipe = Pipeline([\n",
    "    ('selector', ItemSelector(key='text')),\n",
    "    ('vect', TfidfVectorizer(\n",
    "        tokenizer=word_tokenize,\n",
    "        analyzer='word',\n",
    "        lowercase=True,\n",
    "        ngram_range=(1,2)))\n",
    "])\n",
    "\n",
    "# pipe char n-grams\n",
    "char_pipe = Pipeline([\n",
    "    ('selector', ItemSelector(key=\"text\")),\n",
    "    ('vect', TfidfVectorizer(\n",
    "        analyzer='char',\n",
    "        lowercase=True,\n",
    "        ngram_range=(2,4)))\n",
    "])\n",
    "\n",
    "# pipe POS n-grams\n",
    "pos_pipe = Pipeline([\n",
    "    ('selector', ItemSelector(key=\"POS\")),\n",
    "    ('vect', TfidfVectorizer(\n",
    "        analyzer='word',\n",
    "        lowercase=True,\n",
    "        ngram_range=(1,3)))\n",
    "])\n",
    "\n",
    "# pipe complete\n",
    "pipe = Pipeline([\n",
    "    ('feats', FeatureUnion([\n",
    "        ('numfeat_pipe', numfeat_pipe),\n",
    "        ('text_pipe', text_pipe),\n",
    "        ('char_pipe', char_pipe),\n",
    "        ('pos_pipe', pos_pipe)\n",
    "    ])),\n",
    "    ('cls', linsvm)\n",
    "])"
   ]
  },
  {
   "cell_type": "code",
   "execution_count": 27,
   "metadata": {},
   "outputs": [
    {
     "name": "stderr",
     "output_type": "stream",
     "text": [
      "C:\\Users\\robin\\anaconda3\\lib\\site-packages\\sklearn\\svm\\_base.py:976: ConvergenceWarning: Liblinear failed to converge, increase the number of iterations.\n",
      "  warnings.warn(\"Liblinear failed to converge, increase \"\n"
     ]
    },
    {
     "data": {
      "text/plain": [
       "Pipeline(steps=[('feats',\n",
       "                 FeatureUnion(transformer_list=[('numfeat_pipe',\n",
       "                                                 Pipeline(steps=[('selector',\n",
       "                                                                  ItemSelector(key=['prop_punct',\n",
       "                                                                                    'avg_sentlength',\n",
       "                                                                                    'prop_capwords',\n",
       "                                                                                    'prop_capI']))])),\n",
       "                                                ('text_pipe',\n",
       "                                                 Pipeline(steps=[('selector',\n",
       "                                                                  ItemSelector(key='text')),\n",
       "                                                                 ('vect',\n",
       "                                                                  TfidfVectorizer(ngram_range=(1,\n",
       "                                                                                               2),\n",
       "                                                                                  tokenizer=<function word_tokenize at 0x000001EBC3A19430>))])),\n",
       "                                                ('char_pipe',\n",
       "                                                 Pipeline(steps=[('selector',\n",
       "                                                                  ItemSelector(key='text')),\n",
       "                                                                 ('vect',\n",
       "                                                                  TfidfVectorizer(analyzer='char',\n",
       "                                                                                  ngram_range=(2,\n",
       "                                                                                               4)))])),\n",
       "                                                ('pos_pipe',\n",
       "                                                 Pipeline(steps=[('selector',\n",
       "                                                                  ItemSelector(key='POS')),\n",
       "                                                                 ('vect',\n",
       "                                                                  TfidfVectorizer(ngram_range=(1,\n",
       "                                                                                               3)))]))])),\n",
       "                ('cls', LinearSVC())])"
      ]
     },
     "execution_count": 27,
     "metadata": {},
     "output_type": "execute_result"
    }
   ],
   "source": [
    "# fit model\n",
    "pipe.fit(X_train, y_train)"
   ]
  },
  {
   "cell_type": "code",
   "execution_count": 28,
   "metadata": {},
   "outputs": [
    {
     "name": "stdout",
     "output_type": "stream",
     "text": [
      "              precision    recall  f1-score   support\n",
      "\n",
      "         ARA       0.82      0.77      0.80       190\n",
      "         DEU       0.84      0.93      0.88       207\n",
      "         FRA       0.84      0.79      0.81       229\n",
      "         HIN       0.70      0.82      0.75       184\n",
      "         ITA       0.82      0.90      0.86       198\n",
      "         JPN       0.86      0.76      0.81       197\n",
      "         KOR       0.75      0.83      0.79       189\n",
      "         SPA       0.78      0.75      0.76       216\n",
      "         TEL       0.83      0.74      0.78       180\n",
      "         TUR       0.89      0.84      0.86       211\n",
      "         ZHO       0.83      0.81      0.82       199\n",
      "\n",
      "    accuracy                           0.81      2200\n",
      "   macro avg       0.81      0.81      0.81      2200\n",
      "weighted avg       0.82      0.81      0.81      2200\n",
      "\n"
     ]
    }
   ],
   "source": [
    "# prediction\n",
    "y_test_pred = pipe.predict(X_test)\n",
    "\n",
    "# accuracy\n",
    "print(classification_report(y_test, y_test_pred))"
   ]
  },
  {
   "cell_type": "code",
   "execution_count": 34,
   "metadata": {},
   "outputs": [
    {
     "name": "stderr",
     "output_type": "stream",
     "text": [
      "[Parallel(n_jobs=-1)]: Using backend LokyBackend with 12 concurrent workers.\n"
     ]
    },
    {
     "name": "stdout",
     "output_type": "stream",
     "text": [
      "              precision    recall  f1-score   support\n",
      "\n",
      "         ARA       0.76      0.55      0.64       190\n",
      "         DEU       0.72      0.90      0.80       207\n",
      "         FRA       0.71      0.76      0.73       229\n",
      "         HIN       0.65      0.64      0.64       184\n",
      "         ITA       0.76      0.76      0.76       198\n",
      "         JPN       0.66      0.64      0.65       197\n",
      "         KOR       0.61      0.65      0.63       189\n",
      "         SPA       0.61      0.62      0.61       216\n",
      "         TEL       0.70      0.71      0.70       180\n",
      "         TUR       0.75      0.65      0.70       211\n",
      "         ZHO       0.69      0.69      0.69       199\n",
      "\n",
      "    accuracy                           0.69      2200\n",
      "   macro avg       0.69      0.69      0.69      2200\n",
      "weighted avg       0.69      0.69      0.69      2200\n",
      "\n"
     ]
    },
    {
     "name": "stderr",
     "output_type": "stream",
     "text": [
      "[Parallel(n_jobs=-1)]: Done  10 out of  10 | elapsed:  7.4min finished\n"
     ]
    }
   ],
   "source": [
    "# cross-validation\n",
    "cv_results = cross_val_predict(pipe, X_test, y_test, cv=10, verbose=True, n_jobs=-1)\n",
    "print(classification_report(y_test, cv_results))"
   ]
  },
  {
   "cell_type": "code",
   "execution_count": 31,
   "metadata": {},
   "outputs": [],
   "source": [
    "test = pd.read_csv('Featured_Data/test_features.csv')\n",
    "test_predict = pipe.predict(test)"
   ]
  },
  {
   "cell_type": "code",
   "execution_count": 32,
   "metadata": {},
   "outputs": [
    {
     "data": {
      "text/plain": [
       "array(['JPN', 'ARA', 'DEU', ..., 'SPA', 'TUR', 'DEU'], dtype=object)"
      ]
     },
     "execution_count": 32,
     "metadata": {},
     "output_type": "execute_result"
    }
   ],
   "source": [
    "test_predict"
   ]
  },
  {
   "cell_type": "code",
   "execution_count": 33,
   "metadata": {},
   "outputs": [],
   "source": [
    "test_predict = pd.Series(test_predict)\n",
    "test_predict.to_csv('test_language_predictions.csv')"
   ]
  },
  {
   "cell_type": "code",
   "execution_count": null,
   "metadata": {},
   "outputs": [],
   "source": []
  }
 ],
 "metadata": {
  "kernelspec": {
   "display_name": "Python 3",
   "language": "python",
   "name": "python3"
  },
  "language_info": {
   "codemirror_mode": {
    "name": "ipython",
    "version": 3
   },
   "file_extension": ".py",
   "mimetype": "text/x-python",
   "name": "python",
   "nbconvert_exporter": "python",
   "pygments_lexer": "ipython3",
   "version": "3.8.5"
  }
 },
 "nbformat": 4,
 "nbformat_minor": 4
}
