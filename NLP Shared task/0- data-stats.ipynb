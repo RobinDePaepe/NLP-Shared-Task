{
 "cells": [
  {
   "cell_type": "code",
   "execution_count": 1,
   "metadata": {
    "executionInfo": {
     "elapsed": 680,
     "status": "ok",
     "timestamp": 1616582960198,
     "user": {
      "displayName": "Ilia Markov",
      "photoUrl": "https://lh3.googleusercontent.com/a-/AOh14GiKKVHQAMPDKer006hWNwA1h_Tl0RFH-J_2tc01=s64",
      "userId": "09447936546757127632"
     },
     "user_tz": -60
    },
    "id": "SIwQxqum11Li"
   },
   "outputs": [],
   "source": [
    "import pandas as pd"
   ]
  },
  {
   "cell_type": "code",
   "execution_count": 2,
   "metadata": {
    "colab": {
     "base_uri": "https://localhost:8080/"
    },
    "executionInfo": {
     "elapsed": 18046,
     "status": "ok",
     "timestamp": 1616582977569,
     "user": {
      "displayName": "Ilia Markov",
      "photoUrl": "https://lh3.googleusercontent.com/a-/AOh14GiKKVHQAMPDKer006hWNwA1h_Tl0RFH-J_2tc01=s64",
      "userId": "09447936546757127632"
     },
     "user_tz": -60
    },
    "id": "vYhNjt3S2BN7",
    "outputId": "d76a7af8-0ed4-4d5a-8dea-4bf44c82b936"
   },
   "outputs": [
    {
     "name": "stdout",
     "output_type": "stream",
     "text": [
      "Mounted at /content/drive\n"
     ]
    }
   ],
   "source": [
    "from google.colab import drive\n",
    "drive.mount('/content/drive')"
   ]
  },
  {
   "cell_type": "code",
   "execution_count": 3,
   "metadata": {
    "executionInfo": {
     "elapsed": 20019,
     "status": "ok",
     "timestamp": 1616582979544,
     "user": {
      "displayName": "Ilia Markov",
      "photoUrl": "https://lh3.googleusercontent.com/a-/AOh14GiKKVHQAMPDKer006hWNwA1h_Tl0RFH-J_2tc01=s64",
      "userId": "09447936546757127632"
     },
     "user_tz": -60
    },
    "id": "TeZ77nwI2DFR"
   },
   "outputs": [],
   "source": [
    "train_path = '/content/drive/My Drive/NLP2021/NLI-proficiency-shared-task/train.csv'\n",
    "test_path = '/content/drive/My Drive/NLP2021/NLI-proficiency-shared-task/test.csv'\n",
    "\n",
    "train = pd.read_csv(train_path, sep=',')\n",
    "test = pd.read_csv(test_path, sep=',')"
   ]
  },
  {
   "cell_type": "code",
   "execution_count": 4,
   "metadata": {
    "colab": {
     "base_uri": "https://localhost:8080/",
     "height": 527
    },
    "executionInfo": {
     "elapsed": 20018,
     "status": "ok",
     "timestamp": 1616582979545,
     "user": {
      "displayName": "Ilia Markov",
      "photoUrl": "https://lh3.googleusercontent.com/a-/AOh14GiKKVHQAMPDKer006hWNwA1h_Tl0RFH-J_2tc01=s64",
      "userId": "09447936546757127632"
     },
     "user_tz": -60
    },
    "id": "gzKrJo4y2MmF",
    "outputId": "d99a7625-5159-44f8-b39d-3b1318cf67d2"
   },
   "outputs": [
    {
     "name": "stdout",
     "output_type": "stream",
     "text": [
      "Number of essays (train): 11000\n",
      "train L1: Language\n",
      "ARA         1000\n",
      "DEU         1000\n",
      "FRA         1000\n",
      "HIN         1000\n",
      "ITA         1000\n",
      "JPN         1000\n",
      "KOR         1000\n",
      "SPA         1000\n",
      "TEL         1000\n",
      "TUR         1000\n",
      "ZHO         1000\n",
      "dtype: int64\n",
      "train proficiency: Proficiency\n",
      "high           3835\n",
      "low            1201\n",
      "medium         5964\n",
      "dtype: int64\n"
     ]
    },
    {
     "data": {
      "text/html": [
       "<div>\n",
       "<style scoped>\n",
       "    .dataframe tbody tr th:only-of-type {\n",
       "        vertical-align: middle;\n",
       "    }\n",
       "\n",
       "    .dataframe tbody tr th {\n",
       "        vertical-align: top;\n",
       "    }\n",
       "\n",
       "    .dataframe thead th {\n",
       "        text-align: right;\n",
       "    }\n",
       "</style>\n",
       "<table border=\"1\" class=\"dataframe\">\n",
       "  <thead>\n",
       "    <tr style=\"text-align: right;\">\n",
       "      <th></th>\n",
       "      <th>Filename</th>\n",
       "      <th>text</th>\n",
       "      <th>Language</th>\n",
       "      <th>Proficiency</th>\n",
       "    </tr>\n",
       "  </thead>\n",
       "  <tbody>\n",
       "    <tr>\n",
       "      <th>0</th>\n",
       "      <td>88.txt</td>\n",
       "      <td>Some people might think that traveling in a gr...</td>\n",
       "      <td>KOR</td>\n",
       "      <td>high</td>\n",
       "    </tr>\n",
       "    <tr>\n",
       "      <th>1</th>\n",
       "      <td>278.txt</td>\n",
       "      <td>IThe importance and popularity of travelling i...</td>\n",
       "      <td>DEU</td>\n",
       "      <td>medium</td>\n",
       "    </tr>\n",
       "    <tr>\n",
       "      <th>2</th>\n",
       "      <td>348.txt</td>\n",
       "      <td>It is an important decision, how to plan your ...</td>\n",
       "      <td>TUR</td>\n",
       "      <td>high</td>\n",
       "    </tr>\n",
       "    <tr>\n",
       "      <th>3</th>\n",
       "      <td>666.txt</td>\n",
       "      <td>Some people believe that young people can enjo...</td>\n",
       "      <td>ZHO</td>\n",
       "      <td>medium</td>\n",
       "    </tr>\n",
       "    <tr>\n",
       "      <th>4</th>\n",
       "      <td>733.txt</td>\n",
       "      <td>Travelling is  usually considered as good recr...</td>\n",
       "      <td>TEL</td>\n",
       "      <td>medium</td>\n",
       "    </tr>\n",
       "  </tbody>\n",
       "</table>\n",
       "</div>"
      ],
      "text/plain": [
       "  Filename  ... Proficiency\n",
       "0   88.txt  ...        high\n",
       "1  278.txt  ...      medium\n",
       "2  348.txt  ...        high\n",
       "3  666.txt  ...      medium\n",
       "4  733.txt  ...      medium\n",
       "\n",
       "[5 rows x 4 columns]"
      ]
     },
     "execution_count": 4,
     "metadata": {
      "tags": []
     },
     "output_type": "execute_result"
    }
   ],
   "source": [
    "# training set\n",
    "print(\"Number of essays (train):\", len(train))\n",
    "print(\"train L1:\", train[['Language']].value_counts(sort=False))\n",
    "print(\"train proficiency:\", train[['Proficiency']].value_counts(sort=False))\n",
    "train.head(5)"
   ]
  },
  {
   "cell_type": "code",
   "execution_count": 5,
   "metadata": {
    "colab": {
     "base_uri": "https://localhost:8080/",
     "height": 221
    },
    "executionInfo": {
     "elapsed": 20016,
     "status": "ok",
     "timestamp": 1616582979545,
     "user": {
      "displayName": "Ilia Markov",
      "photoUrl": "https://lh3.googleusercontent.com/a-/AOh14GiKKVHQAMPDKer006hWNwA1h_Tl0RFH-J_2tc01=s64",
      "userId": "09447936546757127632"
     },
     "user_tz": -60
    },
    "id": "ia06AMv32QvB",
    "outputId": "f0f3e1f4-6a3a-447f-c7c5-57bbd6f2c854"
   },
   "outputs": [
    {
     "name": "stdout",
     "output_type": "stream",
     "text": [
      "Number of essays (test): 1100\n"
     ]
    },
    {
     "data": {
      "text/html": [
       "<div>\n",
       "<style scoped>\n",
       "    .dataframe tbody tr th:only-of-type {\n",
       "        vertical-align: middle;\n",
       "    }\n",
       "\n",
       "    .dataframe tbody tr th {\n",
       "        vertical-align: top;\n",
       "    }\n",
       "\n",
       "    .dataframe thead th {\n",
       "        text-align: right;\n",
       "    }\n",
       "</style>\n",
       "<table border=\"1\" class=\"dataframe\">\n",
       "  <thead>\n",
       "    <tr style=\"text-align: right;\">\n",
       "      <th></th>\n",
       "      <th>Filename</th>\n",
       "      <th>text</th>\n",
       "    </tr>\n",
       "  </thead>\n",
       "  <tbody>\n",
       "    <tr>\n",
       "      <th>0</th>\n",
       "      <td>10226.txt</td>\n",
       "      <td>I agree. Because if I had many academic subjec...</td>\n",
       "    </tr>\n",
       "    <tr>\n",
       "      <th>1</th>\n",
       "      <td>10229.txt</td>\n",
       "      <td>I DO NOT AGREE WITH THIS STATEMENT BECOUSE , N...</td>\n",
       "    </tr>\n",
       "    <tr>\n",
       "      <th>2</th>\n",
       "      <td>10392.txt</td>\n",
       "      <td>I am not quite sure about my oppinion on that ...</td>\n",
       "    </tr>\n",
       "    <tr>\n",
       "      <th>3</th>\n",
       "      <td>10445.txt</td>\n",
       "      <td>It is often said that young people's interest ...</td>\n",
       "    </tr>\n",
       "    <tr>\n",
       "      <th>4</th>\n",
       "      <td>10535.txt</td>\n",
       "      <td>In mordern society, students always face the d...</td>\n",
       "    </tr>\n",
       "  </tbody>\n",
       "</table>\n",
       "</div>"
      ],
      "text/plain": [
       "    Filename                                               text\n",
       "0  10226.txt  I agree. Because if I had many academic subjec...\n",
       "1  10229.txt  I DO NOT AGREE WITH THIS STATEMENT BECOUSE , N...\n",
       "2  10392.txt  I am not quite sure about my oppinion on that ...\n",
       "3  10445.txt  It is often said that young people's interest ...\n",
       "4  10535.txt  In mordern society, students always face the d..."
      ]
     },
     "execution_count": 5,
     "metadata": {
      "tags": []
     },
     "output_type": "execute_result"
    }
   ],
   "source": [
    "# test set\n",
    "print(\"Number of essays (test):\", len(test))\n",
    "test.head(5)"
   ]
  }
 ],
 "metadata": {
  "colab": {
   "authorship_tag": "ABX9TyNxqzPlyYEKiYAnqKt3sVr5",
   "name": "data-stats.ipynb",
   "provenance": []
  },
  "kernelspec": {
   "display_name": "Python 3",
   "language": "python",
   "name": "python3"
  },
  "language_info": {
   "codemirror_mode": {
    "name": "ipython",
    "version": 3
   },
   "file_extension": ".py",
   "mimetype": "text/x-python",
   "name": "python",
   "nbconvert_exporter": "python",
   "pygments_lexer": "ipython3",
   "version": "3.8.5"
  }
 },
 "nbformat": 4,
 "nbformat_minor": 4
}
